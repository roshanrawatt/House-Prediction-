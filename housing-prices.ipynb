{
 "cells": [
  {
   "cell_type": "markdown",
   "id": "0e616f2d",
   "metadata": {
    "papermill": {
     "duration": 0.018636,
     "end_time": "2022-12-10T16:46:31.038893",
     "exception": false,
     "start_time": "2022-12-10T16:46:31.020257",
     "status": "completed"
    },
    "tags": []
   },
   "source": [
    "# Frame the problem : The goal is to analyse and understand the relationship between  different features and how these features will be leveraged to predict the price of a house."
   ]
  },
  {
   "cell_type": "code",
   "execution_count": 1,
   "id": "bd48c1a8",
   "metadata": {
    "_cell_guid": "b1076dfc-b9ad-4769-8c92-a6c4dae69d19",
    "_uuid": "8f2839f25d086af736a60e9eeb907d3b93b6e0e5",
    "execution": {
     "iopub.execute_input": "2022-12-10T16:46:31.072785Z",
     "iopub.status.busy": "2022-12-10T16:46:31.071750Z",
     "iopub.status.idle": "2022-12-10T16:46:32.050515Z",
     "shell.execute_reply": "2022-12-10T16:46:32.049215Z"
    },
    "papermill": {
     "duration": 0.999173,
     "end_time": "2022-12-10T16:46:32.053771",
     "exception": false,
     "start_time": "2022-12-10T16:46:31.054598",
     "status": "completed"
    },
    "tags": []
   },
   "outputs": [],
   "source": [
    "#Importing Libraries\n",
    "\n",
    "import numpy as np\n",
    "import pandas as pd\n",
    "import matplotlib.pyplot as plt\n",
    "import seaborn as sns"
   ]
  },
  {
   "cell_type": "markdown",
   "id": "ff941954",
   "metadata": {
    "papermill": {
     "duration": 0.014656,
     "end_time": "2022-12-10T16:46:32.083382",
     "exception": false,
     "start_time": "2022-12-10T16:46:32.068726",
     "status": "completed"
    },
    "tags": []
   },
   "source": [
    "# Get the Data\n",
    "# - Quick look at the Data"
   ]
  },
  {
   "cell_type": "code",
   "execution_count": 2,
   "id": "f937dd55",
   "metadata": {
    "execution": {
     "iopub.execute_input": "2022-12-10T16:46:32.115625Z",
     "iopub.status.busy": "2022-12-10T16:46:32.114822Z",
     "iopub.status.idle": "2022-12-10T16:46:32.550266Z",
     "shell.execute_reply": "2022-12-10T16:46:32.548864Z"
    },
    "papermill": {
     "duration": 0.455201,
     "end_time": "2022-12-10T16:46:32.553556",
     "exception": false,
     "start_time": "2022-12-10T16:46:32.098355",
     "status": "completed"
    },
    "tags": []
   },
   "outputs": [],
   "source": [
    "df = pd.read_excel(\"/kaggle/input/housing-pricess/DS - Assignment Part 1 data set.xlsx\")"
   ]
  },
  {
   "cell_type": "code",
   "execution_count": 3,
   "id": "4ac42f4a",
   "metadata": {
    "execution": {
     "iopub.execute_input": "2022-12-10T16:46:32.589555Z",
     "iopub.status.busy": "2022-12-10T16:46:32.589118Z",
     "iopub.status.idle": "2022-12-10T16:46:32.614473Z",
     "shell.execute_reply": "2022-12-10T16:46:32.613230Z"
    },
    "papermill": {
     "duration": 0.045056,
     "end_time": "2022-12-10T16:46:32.617318",
     "exception": false,
     "start_time": "2022-12-10T16:46:32.572262",
     "status": "completed"
    },
    "tags": []
   },
   "outputs": [
    {
     "data": {
      "text/html": [
       "<div>\n",
       "<style scoped>\n",
       "    .dataframe tbody tr th:only-of-type {\n",
       "        vertical-align: middle;\n",
       "    }\n",
       "\n",
       "    .dataframe tbody tr th {\n",
       "        vertical-align: top;\n",
       "    }\n",
       "\n",
       "    .dataframe thead th {\n",
       "        text-align: right;\n",
       "    }\n",
       "</style>\n",
       "<table border=\"1\" class=\"dataframe\">\n",
       "  <thead>\n",
       "    <tr style=\"text-align: right;\">\n",
       "      <th></th>\n",
       "      <th>Transaction date</th>\n",
       "      <th>House Age</th>\n",
       "      <th>Distance from nearest Metro station (km)</th>\n",
       "      <th>Number of convenience stores</th>\n",
       "      <th>latitude</th>\n",
       "      <th>longitude</th>\n",
       "      <th>Number of bedrooms</th>\n",
       "      <th>House size (sqft)</th>\n",
       "      <th>House price of unit area</th>\n",
       "    </tr>\n",
       "  </thead>\n",
       "  <tbody>\n",
       "    <tr>\n",
       "      <th>0</th>\n",
       "      <td>2012.916667</td>\n",
       "      <td>32.0</td>\n",
       "      <td>84.87882</td>\n",
       "      <td>10</td>\n",
       "      <td>24.98298</td>\n",
       "      <td>121.54024</td>\n",
       "      <td>1</td>\n",
       "      <td>575</td>\n",
       "      <td>37.9</td>\n",
       "    </tr>\n",
       "    <tr>\n",
       "      <th>1</th>\n",
       "      <td>2012.916667</td>\n",
       "      <td>19.5</td>\n",
       "      <td>306.59470</td>\n",
       "      <td>9</td>\n",
       "      <td>24.98034</td>\n",
       "      <td>121.53951</td>\n",
       "      <td>2</td>\n",
       "      <td>1240</td>\n",
       "      <td>42.2</td>\n",
       "    </tr>\n",
       "    <tr>\n",
       "      <th>2</th>\n",
       "      <td>2013.583333</td>\n",
       "      <td>13.3</td>\n",
       "      <td>561.98450</td>\n",
       "      <td>5</td>\n",
       "      <td>24.98746</td>\n",
       "      <td>121.54391</td>\n",
       "      <td>3</td>\n",
       "      <td>1060</td>\n",
       "      <td>47.3</td>\n",
       "    </tr>\n",
       "    <tr>\n",
       "      <th>3</th>\n",
       "      <td>2013.500000</td>\n",
       "      <td>13.3</td>\n",
       "      <td>561.98450</td>\n",
       "      <td>5</td>\n",
       "      <td>24.98746</td>\n",
       "      <td>121.54391</td>\n",
       "      <td>2</td>\n",
       "      <td>875</td>\n",
       "      <td>54.8</td>\n",
       "    </tr>\n",
       "    <tr>\n",
       "      <th>4</th>\n",
       "      <td>2012.833333</td>\n",
       "      <td>5.0</td>\n",
       "      <td>390.56840</td>\n",
       "      <td>5</td>\n",
       "      <td>24.97937</td>\n",
       "      <td>121.54245</td>\n",
       "      <td>1</td>\n",
       "      <td>491</td>\n",
       "      <td>43.1</td>\n",
       "    </tr>\n",
       "  </tbody>\n",
       "</table>\n",
       "</div>"
      ],
      "text/plain": [
       "   Transaction date  House Age  Distance from nearest Metro station (km)  \\\n",
       "0       2012.916667       32.0                                  84.87882   \n",
       "1       2012.916667       19.5                                 306.59470   \n",
       "2       2013.583333       13.3                                 561.98450   \n",
       "3       2013.500000       13.3                                 561.98450   \n",
       "4       2012.833333        5.0                                 390.56840   \n",
       "\n",
       "   Number of convenience stores  latitude  longitude  Number of bedrooms  \\\n",
       "0                            10  24.98298  121.54024                   1   \n",
       "1                             9  24.98034  121.53951                   2   \n",
       "2                             5  24.98746  121.54391                   3   \n",
       "3                             5  24.98746  121.54391                   2   \n",
       "4                             5  24.97937  121.54245                   1   \n",
       "\n",
       "   House size (sqft)  House price of unit area  \n",
       "0                575                      37.9  \n",
       "1               1240                      42.2  \n",
       "2               1060                      47.3  \n",
       "3                875                      54.8  \n",
       "4                491                      43.1  "
      ]
     },
     "execution_count": 3,
     "metadata": {},
     "output_type": "execute_result"
    }
   ],
   "source": [
    "df.head()"
   ]
  },
  {
   "cell_type": "code",
   "execution_count": 4,
   "id": "4142b41d",
   "metadata": {
    "execution": {
     "iopub.execute_input": "2022-12-10T16:46:32.652379Z",
     "iopub.status.busy": "2022-12-10T16:46:32.651942Z",
     "iopub.status.idle": "2022-12-10T16:46:32.678033Z",
     "shell.execute_reply": "2022-12-10T16:46:32.676354Z"
    },
    "papermill": {
     "duration": 0.046862,
     "end_time": "2022-12-10T16:46:32.681053",
     "exception": false,
     "start_time": "2022-12-10T16:46:32.634191",
     "status": "completed"
    },
    "tags": []
   },
   "outputs": [
    {
     "name": "stdout",
     "output_type": "stream",
     "text": [
      "<class 'pandas.core.frame.DataFrame'>\n",
      "RangeIndex: 414 entries, 0 to 413\n",
      "Data columns (total 9 columns):\n",
      " #   Column                                    Non-Null Count  Dtype  \n",
      "---  ------                                    --------------  -----  \n",
      " 0   Transaction date                          414 non-null    float64\n",
      " 1   House Age                                 414 non-null    float64\n",
      " 2   Distance from nearest Metro station (km)  414 non-null    float64\n",
      " 3   Number of convenience stores              414 non-null    int64  \n",
      " 4   latitude                                  414 non-null    float64\n",
      " 5   longitude                                 414 non-null    float64\n",
      " 6   Number of bedrooms                        414 non-null    int64  \n",
      " 7   House size (sqft)                         414 non-null    int64  \n",
      " 8   House price of unit area                  414 non-null    float64\n",
      "dtypes: float64(6), int64(3)\n",
      "memory usage: 29.2 KB\n"
     ]
    }
   ],
   "source": [
    "#Information about the dataset\n",
    "df.info()"
   ]
  },
  {
   "cell_type": "markdown",
   "id": "33af996d",
   "metadata": {
    "papermill": {
     "duration": 0.014661,
     "end_time": "2022-12-10T16:46:32.712113",
     "exception": false,
     "start_time": "2022-12-10T16:46:32.697452",
     "status": "completed"
    },
    "tags": []
   },
   "source": []
  },
  {
   "cell_type": "code",
   "execution_count": 5,
   "id": "dfe4105e",
   "metadata": {
    "execution": {
     "iopub.execute_input": "2022-12-10T16:46:32.743948Z",
     "iopub.status.busy": "2022-12-10T16:46:32.743546Z",
     "iopub.status.idle": "2022-12-10T16:46:32.783221Z",
     "shell.execute_reply": "2022-12-10T16:46:32.782034Z"
    },
    "papermill": {
     "duration": 0.05863,
     "end_time": "2022-12-10T16:46:32.785801",
     "exception": false,
     "start_time": "2022-12-10T16:46:32.727171",
     "status": "completed"
    },
    "tags": []
   },
   "outputs": [
    {
     "data": {
      "text/html": [
       "<div>\n",
       "<style scoped>\n",
       "    .dataframe tbody tr th:only-of-type {\n",
       "        vertical-align: middle;\n",
       "    }\n",
       "\n",
       "    .dataframe tbody tr th {\n",
       "        vertical-align: top;\n",
       "    }\n",
       "\n",
       "    .dataframe thead th {\n",
       "        text-align: right;\n",
       "    }\n",
       "</style>\n",
       "<table border=\"1\" class=\"dataframe\">\n",
       "  <thead>\n",
       "    <tr style=\"text-align: right;\">\n",
       "      <th></th>\n",
       "      <th>Transaction date</th>\n",
       "      <th>House Age</th>\n",
       "      <th>Distance from nearest Metro station (km)</th>\n",
       "      <th>Number of convenience stores</th>\n",
       "      <th>latitude</th>\n",
       "      <th>longitude</th>\n",
       "      <th>Number of bedrooms</th>\n",
       "      <th>House size (sqft)</th>\n",
       "      <th>House price of unit area</th>\n",
       "    </tr>\n",
       "  </thead>\n",
       "  <tbody>\n",
       "    <tr>\n",
       "      <th>count</th>\n",
       "      <td>414.000000</td>\n",
       "      <td>414.000000</td>\n",
       "      <td>414.000000</td>\n",
       "      <td>414.000000</td>\n",
       "      <td>414.000000</td>\n",
       "      <td>414.000000</td>\n",
       "      <td>414.000000</td>\n",
       "      <td>414.000000</td>\n",
       "      <td>414.000000</td>\n",
       "    </tr>\n",
       "    <tr>\n",
       "      <th>mean</th>\n",
       "      <td>2013.148953</td>\n",
       "      <td>17.712560</td>\n",
       "      <td>1083.885689</td>\n",
       "      <td>4.094203</td>\n",
       "      <td>24.969030</td>\n",
       "      <td>121.533361</td>\n",
       "      <td>1.987923</td>\n",
       "      <td>931.475845</td>\n",
       "      <td>37.980193</td>\n",
       "    </tr>\n",
       "    <tr>\n",
       "      <th>std</th>\n",
       "      <td>0.281995</td>\n",
       "      <td>11.392485</td>\n",
       "      <td>1262.109595</td>\n",
       "      <td>2.945562</td>\n",
       "      <td>0.012410</td>\n",
       "      <td>0.015347</td>\n",
       "      <td>0.818875</td>\n",
       "      <td>348.910269</td>\n",
       "      <td>13.606488</td>\n",
       "    </tr>\n",
       "    <tr>\n",
       "      <th>min</th>\n",
       "      <td>2012.666667</td>\n",
       "      <td>0.000000</td>\n",
       "      <td>23.382840</td>\n",
       "      <td>0.000000</td>\n",
       "      <td>24.932070</td>\n",
       "      <td>121.473530</td>\n",
       "      <td>1.000000</td>\n",
       "      <td>402.000000</td>\n",
       "      <td>7.600000</td>\n",
       "    </tr>\n",
       "    <tr>\n",
       "      <th>25%</th>\n",
       "      <td>2012.916667</td>\n",
       "      <td>9.025000</td>\n",
       "      <td>289.324800</td>\n",
       "      <td>1.000000</td>\n",
       "      <td>24.963000</td>\n",
       "      <td>121.528085</td>\n",
       "      <td>1.000000</td>\n",
       "      <td>548.000000</td>\n",
       "      <td>27.700000</td>\n",
       "    </tr>\n",
       "    <tr>\n",
       "      <th>50%</th>\n",
       "      <td>2013.166667</td>\n",
       "      <td>16.100000</td>\n",
       "      <td>492.231300</td>\n",
       "      <td>4.000000</td>\n",
       "      <td>24.971100</td>\n",
       "      <td>121.538630</td>\n",
       "      <td>2.000000</td>\n",
       "      <td>975.000000</td>\n",
       "      <td>38.450000</td>\n",
       "    </tr>\n",
       "    <tr>\n",
       "      <th>75%</th>\n",
       "      <td>2013.416667</td>\n",
       "      <td>28.150000</td>\n",
       "      <td>1454.279000</td>\n",
       "      <td>6.000000</td>\n",
       "      <td>24.977455</td>\n",
       "      <td>121.543305</td>\n",
       "      <td>3.000000</td>\n",
       "      <td>1234.750000</td>\n",
       "      <td>46.600000</td>\n",
       "    </tr>\n",
       "    <tr>\n",
       "      <th>max</th>\n",
       "      <td>2013.583333</td>\n",
       "      <td>43.800000</td>\n",
       "      <td>6488.021000</td>\n",
       "      <td>10.000000</td>\n",
       "      <td>25.014590</td>\n",
       "      <td>121.566270</td>\n",
       "      <td>3.000000</td>\n",
       "      <td>1500.000000</td>\n",
       "      <td>117.500000</td>\n",
       "    </tr>\n",
       "  </tbody>\n",
       "</table>\n",
       "</div>"
      ],
      "text/plain": [
       "       Transaction date   House Age  Distance from nearest Metro station (km)  \\\n",
       "count        414.000000  414.000000                                414.000000   \n",
       "mean        2013.148953   17.712560                               1083.885689   \n",
       "std            0.281995   11.392485                               1262.109595   \n",
       "min         2012.666667    0.000000                                 23.382840   \n",
       "25%         2012.916667    9.025000                                289.324800   \n",
       "50%         2013.166667   16.100000                                492.231300   \n",
       "75%         2013.416667   28.150000                               1454.279000   \n",
       "max         2013.583333   43.800000                               6488.021000   \n",
       "\n",
       "       Number of convenience stores    latitude   longitude  \\\n",
       "count                    414.000000  414.000000  414.000000   \n",
       "mean                       4.094203   24.969030  121.533361   \n",
       "std                        2.945562    0.012410    0.015347   \n",
       "min                        0.000000   24.932070  121.473530   \n",
       "25%                        1.000000   24.963000  121.528085   \n",
       "50%                        4.000000   24.971100  121.538630   \n",
       "75%                        6.000000   24.977455  121.543305   \n",
       "max                       10.000000   25.014590  121.566270   \n",
       "\n",
       "       Number of bedrooms  House size (sqft)  House price of unit area  \n",
       "count          414.000000         414.000000                414.000000  \n",
       "mean             1.987923         931.475845                 37.980193  \n",
       "std              0.818875         348.910269                 13.606488  \n",
       "min              1.000000         402.000000                  7.600000  \n",
       "25%              1.000000         548.000000                 27.700000  \n",
       "50%              2.000000         975.000000                 38.450000  \n",
       "75%              3.000000        1234.750000                 46.600000  \n",
       "max              3.000000        1500.000000                117.500000  "
      ]
     },
     "execution_count": 5,
     "metadata": {},
     "output_type": "execute_result"
    }
   ],
   "source": [
    "# Summary Stats\n",
    "df.describe()"
   ]
  },
  {
   "cell_type": "code",
   "execution_count": 6,
   "id": "8e227b08",
   "metadata": {
    "execution": {
     "iopub.execute_input": "2022-12-10T16:46:32.818773Z",
     "iopub.status.busy": "2022-12-10T16:46:32.818335Z",
     "iopub.status.idle": "2022-12-10T16:46:32.828424Z",
     "shell.execute_reply": "2022-12-10T16:46:32.827329Z"
    },
    "papermill": {
     "duration": 0.029024,
     "end_time": "2022-12-10T16:46:32.830636",
     "exception": false,
     "start_time": "2022-12-10T16:46:32.801612",
     "status": "completed"
    },
    "tags": []
   },
   "outputs": [
    {
     "data": {
      "text/plain": [
       "Transaction date                            0\n",
       "House Age                                   0\n",
       "Distance from nearest Metro station (km)    0\n",
       "Number of convenience stores                0\n",
       "latitude                                    0\n",
       "longitude                                   0\n",
       "Number of bedrooms                          0\n",
       "House size (sqft)                           0\n",
       "House price of unit area                    0\n",
       "dtype: int64"
      ]
     },
     "execution_count": 6,
     "metadata": {},
     "output_type": "execute_result"
    }
   ],
   "source": [
    "#Checking null values\n",
    "df.isnull().sum()"
   ]
  },
  {
   "cell_type": "markdown",
   "id": "2ea98fca",
   "metadata": {
    "papermill": {
     "duration": 0.015586,
     "end_time": "2022-12-10T16:46:32.862411",
     "exception": false,
     "start_time": "2022-12-10T16:46:32.846825",
     "status": "completed"
    },
    "tags": []
   },
   "source": [
    "# DATA EXPLORATION\n",
    "- Data Visualization\n",
    "- Looking for Correlations\n",
    "- Experimenting with Attribute Combinations"
   ]
  },
  {
   "cell_type": "code",
   "execution_count": 7,
   "id": "987b1f0a",
   "metadata": {
    "execution": {
     "iopub.execute_input": "2022-12-10T16:46:32.895513Z",
     "iopub.status.busy": "2022-12-10T16:46:32.895016Z",
     "iopub.status.idle": "2022-12-10T16:46:35.029973Z",
     "shell.execute_reply": "2022-12-10T16:46:35.028760Z"
    },
    "papermill": {
     "duration": 2.155316,
     "end_time": "2022-12-10T16:46:35.033072",
     "exception": false,
     "start_time": "2022-12-10T16:46:32.877756",
     "status": "completed"
    },
    "tags": []
   },
   "outputs": [
    {
     "data": {
      "image/png": "[encoded data removed]",
      "text/plain": [
       "<Figure size 1440x1080 with 9 Axes>"
      ]
     },
     "metadata": {
      "needs_background": "light"
     },
     "output_type": "display_data"
    }
   ],
   "source": [
    "# A histogram shows the number of instances (on the vertical axis) that have a given value range(on the horizontal axis)\n",
    "%matplotlib inline\n",
    "df.hist(bins = 50, figsize = (20, 15))\n",
    "plt.show()"
   ]
  },
  {
   "cell_type": "code",
   "execution_count": 8,
   "id": "da099ad3",
   "metadata": {
    "execution": {
     "iopub.execute_input": "2022-12-10T16:46:35.070098Z",
     "iopub.status.busy": "2022-12-10T16:46:35.069423Z",
     "iopub.status.idle": "2022-12-10T16:46:35.270584Z",
     "shell.execute_reply": "2022-12-10T16:46:35.269384Z"
    },
    "papermill": {
     "duration": 0.221718,
     "end_time": "2022-12-10T16:46:35.273131",
     "exception": false,
     "start_time": "2022-12-10T16:46:35.051413",
     "status": "completed"
    },
    "tags": []
   },
   "outputs": [
    {
     "data": {
      "image/png": "[encoded data removed]",
      "text/plain": [
       "<Figure size 432x288 with 1 Axes>"
      ]
     },
     "metadata": {
      "needs_background": "light"
     },
     "output_type": "display_data"
    }
   ],
   "source": [
    "\n",
    "x = df['House Age']\n",
    "y = df['House price of unit area']\n",
    "plt.scatter(x , y )\n",
    "plt.show()"
   ]
  },
  {
   "cell_type": "code",
   "execution_count": 9,
   "id": "b359db5c",
   "metadata": {
    "execution": {
     "iopub.execute_input": "2022-12-10T16:46:35.309197Z",
     "iopub.status.busy": "2022-12-10T16:46:35.308523Z",
     "iopub.status.idle": "2022-12-10T16:46:35.505359Z",
     "shell.execute_reply": "2022-12-10T16:46:35.504507Z"
    },
    "papermill": {
     "duration": 0.217605,
     "end_time": "2022-12-10T16:46:35.507698",
     "exception": false,
     "start_time": "2022-12-10T16:46:35.290093",
     "status": "completed"
    },
    "tags": []
   },
   "outputs": [
    {
     "data": {
      "image/png": "[encoded data removed]",
      "text/plain": [
       "<Figure size 432x288 with 1 Axes>"
      ]
     },
     "metadata": {
      "needs_background": "light"
     },
     "output_type": "display_data"
    }
   ],
   "source": [
    "x = df['Distance from nearest Metro station (km)']\n",
    "y = df['House price of unit area']\n",
    "plt.scatter(x , y )\n",
    "plt.show()"
   ]
  },
  {
   "cell_type": "markdown",
   "id": "d2d22a2c",
   "metadata": {
    "papermill": {
     "duration": 0.017367,
     "end_time": "2022-12-10T16:46:35.542351",
     "exception": false,
     "start_time": "2022-12-10T16:46:35.524984",
     "status": "completed"
    },
    "tags": []
   },
   "source": [
    "We will keep this column as you can see it really effects the house price."
   ]
  },
  {
   "cell_type": "code",
   "execution_count": 10,
   "id": "dac3caa4",
   "metadata": {
    "execution": {
     "iopub.execute_input": "2022-12-10T16:46:35.579349Z",
     "iopub.status.busy": "2022-12-10T16:46:35.578607Z",
     "iopub.status.idle": "2022-12-10T16:46:35.768054Z",
     "shell.execute_reply": "2022-12-10T16:46:35.767182Z"
    },
    "papermill": {
     "duration": 0.210329,
     "end_time": "2022-12-10T16:46:35.770436",
     "exception": false,
     "start_time": "2022-12-10T16:46:35.560107",
     "status": "completed"
    },
    "tags": []
   },
   "outputs": [
    {
     "data": {
      "image/png": "[encoded data removed]",
      "text/plain": [
       "<Figure size 432x288 with 1 Axes>"
      ]
     },
     "metadata": {
      "needs_background": "light"
     },
     "output_type": "display_data"
    }
   ],
   "source": [
    "x = df['Number of convenience stores']\n",
    "y = df['House price of unit area']\n",
    "plt.scatter(x , y )\n",
    "plt.show()"
   ]
  },
  {
   "cell_type": "code",
   "execution_count": 11,
   "id": "71cbed4f",
   "metadata": {
    "execution": {
     "iopub.execute_input": "2022-12-10T16:46:35.807483Z",
     "iopub.status.busy": "2022-12-10T16:46:35.806365Z",
     "iopub.status.idle": "2022-12-10T16:46:36.029279Z",
     "shell.execute_reply": "2022-12-10T16:46:36.027965Z"
    },
    "papermill": {
     "duration": 0.244125,
     "end_time": "2022-12-10T16:46:36.031894",
     "exception": false,
     "start_time": "2022-12-10T16:46:35.787769",
     "status": "completed"
    },
    "tags": []
   },
   "outputs": [
    {
     "data": {
      "image/png": "[encoded data removed]",
      "text/plain": [
       "<Figure size 432x288 with 1 Axes>"
      ]
     },
     "metadata": {
      "needs_background": "light"
     },
     "output_type": "display_data"
    }
   ],
   "source": [
    "x = df['Number of bedrooms']\n",
    "y = df['House price of unit area']\n",
    "plt.scatter(x , y )\n",
    "plt.show()"
   ]
  },
  {
   "cell_type": "code",
   "execution_count": 12,
   "id": "4a24504d",
   "metadata": {
    "execution": {
     "iopub.execute_input": "2022-12-10T16:46:36.082893Z",
     "iopub.status.busy": "2022-12-10T16:46:36.082509Z",
     "iopub.status.idle": "2022-12-10T16:46:36.284060Z",
     "shell.execute_reply": "2022-12-10T16:46:36.282680Z"
    },
    "papermill": {
     "duration": 0.234659,
     "end_time": "2022-12-10T16:46:36.287673",
     "exception": false,
     "start_time": "2022-12-10T16:46:36.053014",
     "status": "completed"
    },
    "tags": []
   },
   "outputs": [
    {
     "data": {
      "image/png": "[encoded data removed]",
      "text/plain": [
       "<Figure size 432x288 with 1 Axes>"
      ]
     },
     "metadata": {
      "needs_background": "light"
     },
     "output_type": "display_data"
    }
   ],
   "source": [
    "x = df['Number of bedrooms']\n",
    "y = df['House price of unit area']\n",
    "plt.scatter(x , y, label = 'label')\n",
    "plt.show()"
   ]
  },
  {
   "cell_type": "code",
   "execution_count": 13,
   "id": "a5c8b29a",
   "metadata": {
    "execution": {
     "iopub.execute_input": "2022-12-10T16:46:36.340488Z",
     "iopub.status.busy": "2022-12-10T16:46:36.340057Z",
     "iopub.status.idle": "2022-12-10T16:46:36.520099Z",
     "shell.execute_reply": "2022-12-10T16:46:36.518994Z"
    },
    "papermill": {
     "duration": 0.21068,
     "end_time": "2022-12-10T16:46:36.523132",
     "exception": false,
     "start_time": "2022-12-10T16:46:36.312452",
     "status": "completed"
    },
    "tags": []
   },
   "outputs": [
    {
     "data": {
      "image/png": "[encoded data removed]",
      "text/plain": [
       "<Figure size 432x288 with 1 Axes>"
      ]
     },
     "metadata": {
      "needs_background": "light"
     },
     "output_type": "display_data"
    }
   ],
   "source": [
    "x = df['House Age']\n",
    "y = df['House price of unit area']\n",
    "plt.scatter(x , y, label = 'label')\n",
    "plt.show()"
   ]
  },
  {
   "cell_type": "code",
   "execution_count": 14,
   "id": "89556bae",
   "metadata": {
    "execution": {
     "iopub.execute_input": "2022-12-10T16:46:36.565965Z",
     "iopub.status.busy": "2022-12-10T16:46:36.565541Z",
     "iopub.status.idle": "2022-12-10T16:46:36.722552Z",
     "shell.execute_reply": "2022-12-10T16:46:36.721483Z"
    },
    "papermill": {
     "duration": 0.179782,
     "end_time": "2022-12-10T16:46:36.725537",
     "exception": false,
     "start_time": "2022-12-10T16:46:36.545755",
     "status": "completed"
    },
    "tags": []
   },
   "outputs": [
    {
     "name": "stderr",
     "output_type": "stream",
     "text": [
      "/opt/conda/lib/python3.7/site-packages/seaborn/_decorators.py:43: FutureWarning: Pass the following variable as a keyword arg: x. From version 0.12, the only valid positional argument will be `data`, and passing other arguments without an explicit keyword will result in an error or misinterpretation.\n",
      "  FutureWarning\n"
     ]
    },
    {
     "data": {
      "text/plain": [
       "<AxesSubplot:xlabel='House price of unit area'>"
      ]
     },
     "execution_count": 14,
     "metadata": {},
     "output_type": "execute_result"
    },
    {
     "data": {
      "image/png": "[encoded data removed]",
      "text/plain": [
       "<Figure size 432x288 with 1 Axes>"
      ]
     },
     "metadata": {
      "needs_background": "light"
     },
     "output_type": "display_data"
    }
   ],
   "source": [
    "sns.boxplot(df['House price of unit area'])"
   ]
  },
  {
   "cell_type": "code",
   "execution_count": 15,
   "id": "0e4e51bd",
   "metadata": {
    "execution": {
     "iopub.execute_input": "2022-12-10T16:46:36.764757Z",
     "iopub.status.busy": "2022-12-10T16:46:36.763641Z",
     "iopub.status.idle": "2022-12-10T16:46:36.770635Z",
     "shell.execute_reply": "2022-12-10T16:46:36.769688Z"
    },
    "papermill": {
     "duration": 0.029507,
     "end_time": "2022-12-10T16:46:36.773359",
     "exception": false,
     "start_time": "2022-12-10T16:46:36.743852",
     "status": "completed"
    },
    "tags": []
   },
   "outputs": [],
   "source": [
    "#Merging House Size and House price of unit area\n",
    "df['Sale Price'] = df['House size (sqft)'] * df['House price of unit area']"
   ]
  },
  {
   "cell_type": "code",
   "execution_count": 16,
   "id": "50bbe9ad",
   "metadata": {
    "execution": {
     "iopub.execute_input": "2022-12-10T16:46:36.818670Z",
     "iopub.status.busy": "2022-12-10T16:46:36.818274Z",
     "iopub.status.idle": "2022-12-10T16:46:36.825448Z",
     "shell.execute_reply": "2022-12-10T16:46:36.824373Z"
    },
    "papermill": {
     "duration": 0.028912,
     "end_time": "2022-12-10T16:46:36.827729",
     "exception": false,
     "start_time": "2022-12-10T16:46:36.798817",
     "status": "completed"
    },
    "tags": []
   },
   "outputs": [],
   "source": [
    "df = df.drop(['House size (sqft)', 'House price of unit area'], axis = 1)"
   ]
  },
  {
   "cell_type": "markdown",
   "id": "d2ac40bc",
   "metadata": {
    "papermill": {
     "duration": 0.018866,
     "end_time": "2022-12-10T16:46:36.864747",
     "exception": false,
     "start_time": "2022-12-10T16:46:36.845881",
     "status": "completed"
    },
    "tags": []
   },
   "source": [
    "# Correlation of house price with all the values\n",
    "# "
   ]
  },
  {
   "cell_type": "code",
   "execution_count": 17,
   "id": "aa62d051",
   "metadata": {
    "execution": {
     "iopub.execute_input": "2022-12-10T16:46:36.903510Z",
     "iopub.status.busy": "2022-12-10T16:46:36.903080Z",
     "iopub.status.idle": "2022-12-10T16:46:37.322810Z",
     "shell.execute_reply": "2022-12-10T16:46:37.321483Z"
    },
    "papermill": {
     "duration": 0.442291,
     "end_time": "2022-12-10T16:46:37.325536",
     "exception": false,
     "start_time": "2022-12-10T16:46:36.883245",
     "status": "completed"
    },
    "tags": []
   },
   "outputs": [
    {
     "data": {
      "text/plain": [
       "Text(0.5, 1.0, 'Numeric Feature heatmap')"
      ]
     },
     "execution_count": 17,
     "metadata": {},
     "output_type": "execute_result"
    },
    {
     "data": {
      "image/png": "[encoded data removed]",
      "text/plain": [
       "<Figure size 576x432 with 2 Axes>"
      ]
     },
     "metadata": {
      "needs_background": "light"
     },
     "output_type": "display_data"
    }
   ],
   "source": [
    "fig,ax = plt.subplots(figsize=(8,6))\n",
    "correlation = df.select_dtypes(include=['float64','int64']).iloc[:,].corr()\n",
    "sns.heatmap(correlation,ax=ax,vmax=1,square=True)\n",
    "plt.title('Numeric Feature heatmap')"
   ]
  },
  {
   "cell_type": "code",
   "execution_count": 18,
   "id": "4ddf1540",
   "metadata": {
    "execution": {
     "iopub.execute_input": "2022-12-10T16:46:37.365859Z",
     "iopub.status.busy": "2022-12-10T16:46:37.365097Z",
     "iopub.status.idle": "2022-12-10T16:46:37.372349Z",
     "shell.execute_reply": "2022-12-10T16:46:37.370911Z"
    },
    "papermill": {
     "duration": 0.030377,
     "end_time": "2022-12-10T16:46:37.375024",
     "exception": false,
     "start_time": "2022-12-10T16:46:37.344647",
     "status": "completed"
    },
    "tags": []
   },
   "outputs": [
    {
     "name": "stdout",
     "output_type": "stream",
     "text": [
      "Sale Price \t : 1.0\n",
      "Number of bedrooms \t : 0.5486785373646094\n",
      "Distance from nearest Metro station (km) \t : -0.4410935138669291\n",
      "Number of convenience stores \t : 0.38116914737069063\n",
      "latitude \t : 0.3784402828483719\n",
      "longitude \t : 0.3465379271235023\n",
      "House Age \t : -0.1987405716701952\n",
      "Transaction date \t : 0.11905851388931486\n"
     ]
    }
   ],
   "source": [
    "corr_dict = correlation['Sale Price'].to_dict()\n",
    "\n",
    "## descending \n",
    "## correlation with price\n",
    "for key,val in sorted(corr_dict.items(),key=lambda x:-abs(x[1])):\n",
    "    print('{0} \\t : {1}' .format(key,val))"
   ]
  },
  {
   "cell_type": "code",
   "execution_count": 19,
   "id": "4cd479df",
   "metadata": {
    "execution": {
     "iopub.execute_input": "2022-12-10T16:46:37.414904Z",
     "iopub.status.busy": "2022-12-10T16:46:37.414496Z",
     "iopub.status.idle": "2022-12-10T16:46:37.436082Z",
     "shell.execute_reply": "2022-12-10T16:46:37.435076Z"
    },
    "papermill": {
     "duration": 0.043871,
     "end_time": "2022-12-10T16:46:37.438152",
     "exception": false,
     "start_time": "2022-12-10T16:46:37.394281",
     "status": "completed"
    },
    "tags": []
   },
   "outputs": [
    {
     "data": {
      "text/html": [
       "<div>\n",
       "<style scoped>\n",
       "    .dataframe tbody tr th:only-of-type {\n",
       "        vertical-align: middle;\n",
       "    }\n",
       "\n",
       "    .dataframe tbody tr th {\n",
       "        vertical-align: top;\n",
       "    }\n",
       "\n",
       "    .dataframe thead th {\n",
       "        text-align: right;\n",
       "    }\n",
       "</style>\n",
       "<table border=\"1\" class=\"dataframe\">\n",
       "  <thead>\n",
       "    <tr style=\"text-align: right;\">\n",
       "      <th></th>\n",
       "      <th>Transaction date</th>\n",
       "      <th>House Age</th>\n",
       "      <th>Distance from nearest Metro station (km)</th>\n",
       "      <th>Number of convenience stores</th>\n",
       "      <th>latitude</th>\n",
       "      <th>longitude</th>\n",
       "      <th>Number of bedrooms</th>\n",
       "      <th>Sale Price</th>\n",
       "    </tr>\n",
       "  </thead>\n",
       "  <tbody>\n",
       "    <tr>\n",
       "      <th>0</th>\n",
       "      <td>2012.916667</td>\n",
       "      <td>32.0</td>\n",
       "      <td>84.87882</td>\n",
       "      <td>10</td>\n",
       "      <td>24.98298</td>\n",
       "      <td>121.54024</td>\n",
       "      <td>1</td>\n",
       "      <td>21792.5</td>\n",
       "    </tr>\n",
       "    <tr>\n",
       "      <th>1</th>\n",
       "      <td>2012.916667</td>\n",
       "      <td>19.5</td>\n",
       "      <td>306.59470</td>\n",
       "      <td>9</td>\n",
       "      <td>24.98034</td>\n",
       "      <td>121.53951</td>\n",
       "      <td>2</td>\n",
       "      <td>52328.0</td>\n",
       "    </tr>\n",
       "    <tr>\n",
       "      <th>2</th>\n",
       "      <td>2013.583333</td>\n",
       "      <td>13.3</td>\n",
       "      <td>561.98450</td>\n",
       "      <td>5</td>\n",
       "      <td>24.98746</td>\n",
       "      <td>121.54391</td>\n",
       "      <td>3</td>\n",
       "      <td>50138.0</td>\n",
       "    </tr>\n",
       "    <tr>\n",
       "      <th>3</th>\n",
       "      <td>2013.500000</td>\n",
       "      <td>13.3</td>\n",
       "      <td>561.98450</td>\n",
       "      <td>5</td>\n",
       "      <td>24.98746</td>\n",
       "      <td>121.54391</td>\n",
       "      <td>2</td>\n",
       "      <td>47950.0</td>\n",
       "    </tr>\n",
       "    <tr>\n",
       "      <th>4</th>\n",
       "      <td>2012.833333</td>\n",
       "      <td>5.0</td>\n",
       "      <td>390.56840</td>\n",
       "      <td>5</td>\n",
       "      <td>24.97937</td>\n",
       "      <td>121.54245</td>\n",
       "      <td>1</td>\n",
       "      <td>21162.1</td>\n",
       "    </tr>\n",
       "    <tr>\n",
       "      <th>...</th>\n",
       "      <td>...</td>\n",
       "      <td>...</td>\n",
       "      <td>...</td>\n",
       "      <td>...</td>\n",
       "      <td>...</td>\n",
       "      <td>...</td>\n",
       "      <td>...</td>\n",
       "      <td>...</td>\n",
       "    </tr>\n",
       "    <tr>\n",
       "      <th>409</th>\n",
       "      <td>2013.000000</td>\n",
       "      <td>13.7</td>\n",
       "      <td>4082.01500</td>\n",
       "      <td>0</td>\n",
       "      <td>24.94155</td>\n",
       "      <td>121.50381</td>\n",
       "      <td>3</td>\n",
       "      <td>12366.2</td>\n",
       "    </tr>\n",
       "    <tr>\n",
       "      <th>410</th>\n",
       "      <td>2012.666667</td>\n",
       "      <td>5.6</td>\n",
       "      <td>90.45606</td>\n",
       "      <td>9</td>\n",
       "      <td>24.97433</td>\n",
       "      <td>121.54310</td>\n",
       "      <td>2</td>\n",
       "      <td>63900.0</td>\n",
       "    </tr>\n",
       "    <tr>\n",
       "      <th>411</th>\n",
       "      <td>2013.250000</td>\n",
       "      <td>18.8</td>\n",
       "      <td>390.96960</td>\n",
       "      <td>7</td>\n",
       "      <td>24.97923</td>\n",
       "      <td>121.53986</td>\n",
       "      <td>1</td>\n",
       "      <td>20421.8</td>\n",
       "    </tr>\n",
       "    <tr>\n",
       "      <th>412</th>\n",
       "      <td>2013.000000</td>\n",
       "      <td>8.1</td>\n",
       "      <td>104.81010</td>\n",
       "      <td>5</td>\n",
       "      <td>24.96674</td>\n",
       "      <td>121.54067</td>\n",
       "      <td>1</td>\n",
       "      <td>31342.5</td>\n",
       "    </tr>\n",
       "    <tr>\n",
       "      <th>413</th>\n",
       "      <td>2013.500000</td>\n",
       "      <td>6.5</td>\n",
       "      <td>90.45606</td>\n",
       "      <td>9</td>\n",
       "      <td>24.97433</td>\n",
       "      <td>121.54310</td>\n",
       "      <td>2</td>\n",
       "      <td>70098.3</td>\n",
       "    </tr>\n",
       "  </tbody>\n",
       "</table>\n",
       "<p>414 rows × 8 columns</p>\n",
       "</div>"
      ],
      "text/plain": [
       "     Transaction date  House Age  Distance from nearest Metro station (km)  \\\n",
       "0         2012.916667       32.0                                  84.87882   \n",
       "1         2012.916667       19.5                                 306.59470   \n",
       "2         2013.583333       13.3                                 561.98450   \n",
       "3         2013.500000       13.3                                 561.98450   \n",
       "4         2012.833333        5.0                                 390.56840   \n",
       "..                ...        ...                                       ...   \n",
       "409       2013.000000       13.7                                4082.01500   \n",
       "410       2012.666667        5.6                                  90.45606   \n",
       "411       2013.250000       18.8                                 390.96960   \n",
       "412       2013.000000        8.1                                 104.81010   \n",
       "413       2013.500000        6.5                                  90.45606   \n",
       "\n",
       "     Number of convenience stores  latitude  longitude  Number of bedrooms  \\\n",
       "0                              10  24.98298  121.54024                   1   \n",
       "1                               9  24.98034  121.53951                   2   \n",
       "2                               5  24.98746  121.54391                   3   \n",
       "3                               5  24.98746  121.54391                   2   \n",
       "4                               5  24.97937  121.54245                   1   \n",
       "..                            ...       ...        ...                 ...   \n",
       "409                             0  24.94155  121.50381                   3   \n",
       "410                             9  24.97433  121.54310                   2   \n",
       "411                             7  24.97923  121.53986                   1   \n",
       "412                             5  24.96674  121.54067                   1   \n",
       "413                             9  24.97433  121.54310                   2   \n",
       "\n",
       "     Sale Price  \n",
       "0       21792.5  \n",
       "1       52328.0  \n",
       "2       50138.0  \n",
       "3       47950.0  \n",
       "4       21162.1  \n",
       "..          ...  \n",
       "409     12366.2  \n",
       "410     63900.0  \n",
       "411     20421.8  \n",
       "412     31342.5  \n",
       "413     70098.3  \n",
       "\n",
       "[414 rows x 8 columns]"
      ]
     },
     "execution_count": 19,
     "metadata": {},
     "output_type": "execute_result"
    }
   ],
   "source": [
    "df"
   ]
  },
  {
   "cell_type": "code",
   "execution_count": null,
   "id": "dd10174e",
   "metadata": {
    "papermill": {
     "duration": 0.019151,
     "end_time": "2022-12-10T16:46:37.477039",
     "exception": false,
     "start_time": "2022-12-10T16:46:37.457888",
     "status": "completed"
    },
    "tags": []
   },
   "outputs": [],
   "source": []
  },
  {
   "cell_type": "markdown",
   "id": "2a0f7893",
   "metadata": {
    "papermill": {
     "duration": 0.019155,
     "end_time": "2022-12-10T16:46:37.516007",
     "exception": false,
     "start_time": "2022-12-10T16:46:37.496852",
     "status": "completed"
    },
    "tags": []
   },
   "source": [
    "# Prepare Data for Machine Learning\n",
    "- Data Cleaning\n",
    "- Feature Selection\n",
    "- Feature Scaling"
   ]
  },
  {
   "cell_type": "code",
   "execution_count": 20,
   "id": "d994e05a",
   "metadata": {
    "execution": {
     "iopub.execute_input": "2022-12-10T16:46:37.557251Z",
     "iopub.status.busy": "2022-12-10T16:46:37.556148Z",
     "iopub.status.idle": "2022-12-10T16:46:37.562778Z",
     "shell.execute_reply": "2022-12-10T16:46:37.561713Z"
    },
    "papermill": {
     "duration": 0.029673,
     "end_time": "2022-12-10T16:46:37.564995",
     "exception": false,
     "start_time": "2022-12-10T16:46:37.535322",
     "status": "completed"
    },
    "tags": []
   },
   "outputs": [],
   "source": [
    "#Deleting the outlier\n",
    "from scipy import stats\n",
    "\n",
    "def drop_numerical_outliers(df, z_thresh=3):\n",
    "    # Constrains will contain `True` or `False` depending on if it is a value below the threshold.\n",
    "    constrains = df.select_dtypes(include=[np.number]) \\\n",
    "        .apply(lambda x: np.abs(stats.zscore(x)) < z_thresh, reduce=False) \\\n",
    "        .all(axis=1)\n",
    "    # Drop (inplace) values set to be rejected\n",
    "    df.drop(df.index[~constrains], inplace=True)"
   ]
  },
  {
   "cell_type": "code",
   "execution_count": null,
   "id": "132a2e04",
   "metadata": {
    "papermill": {
     "duration": 0.019429,
     "end_time": "2022-12-10T16:46:37.604502",
     "exception": false,
     "start_time": "2022-12-10T16:46:37.585073",
     "status": "completed"
    },
    "tags": []
   },
   "outputs": [],
   "source": []
  },
  {
   "cell_type": "markdown",
   "id": "f6e02deb",
   "metadata": {
    "papermill": {
     "duration": 0.019227,
     "end_time": "2022-12-10T16:46:37.643150",
     "exception": false,
     "start_time": "2022-12-10T16:46:37.623923",
     "status": "completed"
    },
    "tags": []
   },
   "source": [
    "# Deleting the columns that are irrelevant to the business objective"
   ]
  },
  {
   "cell_type": "code",
   "execution_count": 21,
   "id": "129d97ce",
   "metadata": {
    "execution": {
     "iopub.execute_input": "2022-12-10T16:46:37.684677Z",
     "iopub.status.busy": "2022-12-10T16:46:37.683625Z",
     "iopub.status.idle": "2022-12-10T16:46:37.690136Z",
     "shell.execute_reply": "2022-12-10T16:46:37.689070Z"
    },
    "papermill": {
     "duration": 0.029955,
     "end_time": "2022-12-10T16:46:37.692616",
     "exception": false,
     "start_time": "2022-12-10T16:46:37.662661",
     "status": "completed"
    },
    "tags": []
   },
   "outputs": [],
   "source": [
    "df = df.drop(['Transaction date' ], axis = 1)"
   ]
  },
  {
   "cell_type": "code",
   "execution_count": 22,
   "id": "a7781f98",
   "metadata": {
    "execution": {
     "iopub.execute_input": "2022-12-10T16:46:37.735202Z",
     "iopub.status.busy": "2022-12-10T16:46:37.734794Z",
     "iopub.status.idle": "2022-12-10T16:46:37.757369Z",
     "shell.execute_reply": "2022-12-10T16:46:37.756208Z"
    },
    "papermill": {
     "duration": 0.046264,
     "end_time": "2022-12-10T16:46:37.759666",
     "exception": false,
     "start_time": "2022-12-10T16:46:37.713402",
     "status": "completed"
    },
    "tags": []
   },
   "outputs": [
    {
     "data": {
      "text/html": [
       "<div>\n",
       "<style scoped>\n",
       "    .dataframe tbody tr th:only-of-type {\n",
       "        vertical-align: middle;\n",
       "    }\n",
       "\n",
       "    .dataframe tbody tr th {\n",
       "        vertical-align: top;\n",
       "    }\n",
       "\n",
       "    .dataframe thead th {\n",
       "        text-align: right;\n",
       "    }\n",
       "</style>\n",
       "<table border=\"1\" class=\"dataframe\">\n",
       "  <thead>\n",
       "    <tr style=\"text-align: right;\">\n",
       "      <th></th>\n",
       "      <th>House Age</th>\n",
       "      <th>Distance from nearest Metro station (km)</th>\n",
       "      <th>Number of convenience stores</th>\n",
       "      <th>latitude</th>\n",
       "      <th>longitude</th>\n",
       "      <th>Number of bedrooms</th>\n",
       "      <th>Sale Price</th>\n",
       "    </tr>\n",
       "  </thead>\n",
       "  <tbody>\n",
       "    <tr>\n",
       "      <th>0</th>\n",
       "      <td>32.0</td>\n",
       "      <td>84.87882</td>\n",
       "      <td>10</td>\n",
       "      <td>24.98298</td>\n",
       "      <td>121.54024</td>\n",
       "      <td>1</td>\n",
       "      <td>21792.5</td>\n",
       "    </tr>\n",
       "    <tr>\n",
       "      <th>1</th>\n",
       "      <td>19.5</td>\n",
       "      <td>306.59470</td>\n",
       "      <td>9</td>\n",
       "      <td>24.98034</td>\n",
       "      <td>121.53951</td>\n",
       "      <td>2</td>\n",
       "      <td>52328.0</td>\n",
       "    </tr>\n",
       "    <tr>\n",
       "      <th>2</th>\n",
       "      <td>13.3</td>\n",
       "      <td>561.98450</td>\n",
       "      <td>5</td>\n",
       "      <td>24.98746</td>\n",
       "      <td>121.54391</td>\n",
       "      <td>3</td>\n",
       "      <td>50138.0</td>\n",
       "    </tr>\n",
       "    <tr>\n",
       "      <th>3</th>\n",
       "      <td>13.3</td>\n",
       "      <td>561.98450</td>\n",
       "      <td>5</td>\n",
       "      <td>24.98746</td>\n",
       "      <td>121.54391</td>\n",
       "      <td>2</td>\n",
       "      <td>47950.0</td>\n",
       "    </tr>\n",
       "    <tr>\n",
       "      <th>4</th>\n",
       "      <td>5.0</td>\n",
       "      <td>390.56840</td>\n",
       "      <td>5</td>\n",
       "      <td>24.97937</td>\n",
       "      <td>121.54245</td>\n",
       "      <td>1</td>\n",
       "      <td>21162.1</td>\n",
       "    </tr>\n",
       "    <tr>\n",
       "      <th>...</th>\n",
       "      <td>...</td>\n",
       "      <td>...</td>\n",
       "      <td>...</td>\n",
       "      <td>...</td>\n",
       "      <td>...</td>\n",
       "      <td>...</td>\n",
       "      <td>...</td>\n",
       "    </tr>\n",
       "    <tr>\n",
       "      <th>409</th>\n",
       "      <td>13.7</td>\n",
       "      <td>4082.01500</td>\n",
       "      <td>0</td>\n",
       "      <td>24.94155</td>\n",
       "      <td>121.50381</td>\n",
       "      <td>3</td>\n",
       "      <td>12366.2</td>\n",
       "    </tr>\n",
       "    <tr>\n",
       "      <th>410</th>\n",
       "      <td>5.6</td>\n",
       "      <td>90.45606</td>\n",
       "      <td>9</td>\n",
       "      <td>24.97433</td>\n",
       "      <td>121.54310</td>\n",
       "      <td>2</td>\n",
       "      <td>63900.0</td>\n",
       "    </tr>\n",
       "    <tr>\n",
       "      <th>411</th>\n",
       "      <td>18.8</td>\n",
       "      <td>390.96960</td>\n",
       "      <td>7</td>\n",
       "      <td>24.97923</td>\n",
       "      <td>121.53986</td>\n",
       "      <td>1</td>\n",
       "      <td>20421.8</td>\n",
       "    </tr>\n",
       "    <tr>\n",
       "      <th>412</th>\n",
       "      <td>8.1</td>\n",
       "      <td>104.81010</td>\n",
       "      <td>5</td>\n",
       "      <td>24.96674</td>\n",
       "      <td>121.54067</td>\n",
       "      <td>1</td>\n",
       "      <td>31342.5</td>\n",
       "    </tr>\n",
       "    <tr>\n",
       "      <th>413</th>\n",
       "      <td>6.5</td>\n",
       "      <td>90.45606</td>\n",
       "      <td>9</td>\n",
       "      <td>24.97433</td>\n",
       "      <td>121.54310</td>\n",
       "      <td>2</td>\n",
       "      <td>70098.3</td>\n",
       "    </tr>\n",
       "  </tbody>\n",
       "</table>\n",
       "<p>414 rows × 7 columns</p>\n",
       "</div>"
      ],
      "text/plain": [
       "     House Age  Distance from nearest Metro station (km)  \\\n",
       "0         32.0                                  84.87882   \n",
       "1         19.5                                 306.59470   \n",
       "2         13.3                                 561.98450   \n",
       "3         13.3                                 561.98450   \n",
       "4          5.0                                 390.56840   \n",
       "..         ...                                       ...   \n",
       "409       13.7                                4082.01500   \n",
       "410        5.6                                  90.45606   \n",
       "411       18.8                                 390.96960   \n",
       "412        8.1                                 104.81010   \n",
       "413        6.5                                  90.45606   \n",
       "\n",
       "     Number of convenience stores  latitude  longitude  Number of bedrooms  \\\n",
       "0                              10  24.98298  121.54024                   1   \n",
       "1                               9  24.98034  121.53951                   2   \n",
       "2                               5  24.98746  121.54391                   3   \n",
       "3                               5  24.98746  121.54391                   2   \n",
       "4                               5  24.97937  121.54245                   1   \n",
       "..                            ...       ...        ...                 ...   \n",
       "409                             0  24.94155  121.50381                   3   \n",
       "410                             9  24.97433  121.54310                   2   \n",
       "411                             7  24.97923  121.53986                   1   \n",
       "412                             5  24.96674  121.54067                   1   \n",
       "413                             9  24.97433  121.54310                   2   \n",
       "\n",
       "     Sale Price  \n",
       "0       21792.5  \n",
       "1       52328.0  \n",
       "2       50138.0  \n",
       "3       47950.0  \n",
       "4       21162.1  \n",
       "..          ...  \n",
       "409     12366.2  \n",
       "410     63900.0  \n",
       "411     20421.8  \n",
       "412     31342.5  \n",
       "413     70098.3  \n",
       "\n",
       "[414 rows x 7 columns]"
      ]
     },
     "execution_count": 22,
     "metadata": {},
     "output_type": "execute_result"
    }
   ],
   "source": [
    "df"
   ]
  },
  {
   "cell_type": "markdown",
   "id": "fa2caed1",
   "metadata": {
    "papermill": {
     "duration": 0.019334,
     "end_time": "2022-12-10T16:46:37.798836",
     "exception": false,
     "start_time": "2022-12-10T16:46:37.779502",
     "status": "completed"
    },
    "tags": []
   },
   "source": [
    "**Merging two features to make one feature that is Sale Price\n",
    "This will reduce the number of dimensions without losing any information of the dataset\n",
    "It is also refered as dimensionality reduction**"
   ]
  },
  {
   "cell_type": "markdown",
   "id": "5c1e8e98",
   "metadata": {
    "papermill": {
     "duration": 0.019335,
     "end_time": "2022-12-10T16:46:37.837924",
     "exception": false,
     "start_time": "2022-12-10T16:46:37.818589",
     "status": "completed"
    },
    "tags": []
   },
   "source": []
  },
  {
   "cell_type": "code",
   "execution_count": 23,
   "id": "70c26304",
   "metadata": {
    "execution": {
     "iopub.execute_input": "2022-12-10T16:46:37.879800Z",
     "iopub.status.busy": "2022-12-10T16:46:37.879386Z",
     "iopub.status.idle": "2022-12-10T16:46:37.883808Z",
     "shell.execute_reply": "2022-12-10T16:46:37.882989Z"
    },
    "papermill": {
     "duration": 0.028256,
     "end_time": "2022-12-10T16:46:37.885829",
     "exception": false,
     "start_time": "2022-12-10T16:46:37.857573",
     "status": "completed"
    },
    "tags": []
   },
   "outputs": [],
   "source": [
    "#Merging House Size and House price of unit area\n",
    "#df['Sale Price'] = df['House size (sqft)'] * df['House price of unit area']"
   ]
  },
  {
   "cell_type": "code",
   "execution_count": 24,
   "id": "b51967a3",
   "metadata": {
    "execution": {
     "iopub.execute_input": "2022-12-10T16:46:37.928108Z",
     "iopub.status.busy": "2022-12-10T16:46:37.926990Z",
     "iopub.status.idle": "2022-12-10T16:46:37.947441Z",
     "shell.execute_reply": "2022-12-10T16:46:37.946257Z"
    },
    "papermill": {
     "duration": 0.043957,
     "end_time": "2022-12-10T16:46:37.949946",
     "exception": false,
     "start_time": "2022-12-10T16:46:37.905989",
     "status": "completed"
    },
    "tags": []
   },
   "outputs": [
    {
     "data": {
      "text/html": [
       "<div>\n",
       "<style scoped>\n",
       "    .dataframe tbody tr th:only-of-type {\n",
       "        vertical-align: middle;\n",
       "    }\n",
       "\n",
       "    .dataframe tbody tr th {\n",
       "        vertical-align: top;\n",
       "    }\n",
       "\n",
       "    .dataframe thead th {\n",
       "        text-align: right;\n",
       "    }\n",
       "</style>\n",
       "<table border=\"1\" class=\"dataframe\">\n",
       "  <thead>\n",
       "    <tr style=\"text-align: right;\">\n",
       "      <th></th>\n",
       "      <th>House Age</th>\n",
       "      <th>Distance from nearest Metro station (km)</th>\n",
       "      <th>Number of convenience stores</th>\n",
       "      <th>latitude</th>\n",
       "      <th>longitude</th>\n",
       "      <th>Number of bedrooms</th>\n",
       "      <th>Sale Price</th>\n",
       "    </tr>\n",
       "  </thead>\n",
       "  <tbody>\n",
       "    <tr>\n",
       "      <th>0</th>\n",
       "      <td>32.0</td>\n",
       "      <td>84.87882</td>\n",
       "      <td>10</td>\n",
       "      <td>24.98298</td>\n",
       "      <td>121.54024</td>\n",
       "      <td>1</td>\n",
       "      <td>21792.5</td>\n",
       "    </tr>\n",
       "    <tr>\n",
       "      <th>1</th>\n",
       "      <td>19.5</td>\n",
       "      <td>306.59470</td>\n",
       "      <td>9</td>\n",
       "      <td>24.98034</td>\n",
       "      <td>121.53951</td>\n",
       "      <td>2</td>\n",
       "      <td>52328.0</td>\n",
       "    </tr>\n",
       "    <tr>\n",
       "      <th>2</th>\n",
       "      <td>13.3</td>\n",
       "      <td>561.98450</td>\n",
       "      <td>5</td>\n",
       "      <td>24.98746</td>\n",
       "      <td>121.54391</td>\n",
       "      <td>3</td>\n",
       "      <td>50138.0</td>\n",
       "    </tr>\n",
       "    <tr>\n",
       "      <th>3</th>\n",
       "      <td>13.3</td>\n",
       "      <td>561.98450</td>\n",
       "      <td>5</td>\n",
       "      <td>24.98746</td>\n",
       "      <td>121.54391</td>\n",
       "      <td>2</td>\n",
       "      <td>47950.0</td>\n",
       "    </tr>\n",
       "    <tr>\n",
       "      <th>4</th>\n",
       "      <td>5.0</td>\n",
       "      <td>390.56840</td>\n",
       "      <td>5</td>\n",
       "      <td>24.97937</td>\n",
       "      <td>121.54245</td>\n",
       "      <td>1</td>\n",
       "      <td>21162.1</td>\n",
       "    </tr>\n",
       "    <tr>\n",
       "      <th>...</th>\n",
       "      <td>...</td>\n",
       "      <td>...</td>\n",
       "      <td>...</td>\n",
       "      <td>...</td>\n",
       "      <td>...</td>\n",
       "      <td>...</td>\n",
       "      <td>...</td>\n",
       "    </tr>\n",
       "    <tr>\n",
       "      <th>409</th>\n",
       "      <td>13.7</td>\n",
       "      <td>4082.01500</td>\n",
       "      <td>0</td>\n",
       "      <td>24.94155</td>\n",
       "      <td>121.50381</td>\n",
       "      <td>3</td>\n",
       "      <td>12366.2</td>\n",
       "    </tr>\n",
       "    <tr>\n",
       "      <th>410</th>\n",
       "      <td>5.6</td>\n",
       "      <td>90.45606</td>\n",
       "      <td>9</td>\n",
       "      <td>24.97433</td>\n",
       "      <td>121.54310</td>\n",
       "      <td>2</td>\n",
       "      <td>63900.0</td>\n",
       "    </tr>\n",
       "    <tr>\n",
       "      <th>411</th>\n",
       "      <td>18.8</td>\n",
       "      <td>390.96960</td>\n",
       "      <td>7</td>\n",
       "      <td>24.97923</td>\n",
       "      <td>121.53986</td>\n",
       "      <td>1</td>\n",
       "      <td>20421.8</td>\n",
       "    </tr>\n",
       "    <tr>\n",
       "      <th>412</th>\n",
       "      <td>8.1</td>\n",
       "      <td>104.81010</td>\n",
       "      <td>5</td>\n",
       "      <td>24.96674</td>\n",
       "      <td>121.54067</td>\n",
       "      <td>1</td>\n",
       "      <td>31342.5</td>\n",
       "    </tr>\n",
       "    <tr>\n",
       "      <th>413</th>\n",
       "      <td>6.5</td>\n",
       "      <td>90.45606</td>\n",
       "      <td>9</td>\n",
       "      <td>24.97433</td>\n",
       "      <td>121.54310</td>\n",
       "      <td>2</td>\n",
       "      <td>70098.3</td>\n",
       "    </tr>\n",
       "  </tbody>\n",
       "</table>\n",
       "<p>414 rows × 7 columns</p>\n",
       "</div>"
      ],
      "text/plain": [
       "     House Age  Distance from nearest Metro station (km)  \\\n",
       "0         32.0                                  84.87882   \n",
       "1         19.5                                 306.59470   \n",
       "2         13.3                                 561.98450   \n",
       "3         13.3                                 561.98450   \n",
       "4          5.0                                 390.56840   \n",
       "..         ...                                       ...   \n",
       "409       13.7                                4082.01500   \n",
       "410        5.6                                  90.45606   \n",
       "411       18.8                                 390.96960   \n",
       "412        8.1                                 104.81010   \n",
       "413        6.5                                  90.45606   \n",
       "\n",
       "     Number of convenience stores  latitude  longitude  Number of bedrooms  \\\n",
       "0                              10  24.98298  121.54024                   1   \n",
       "1                               9  24.98034  121.53951                   2   \n",
       "2                               5  24.98746  121.54391                   3   \n",
       "3                               5  24.98746  121.54391                   2   \n",
       "4                               5  24.97937  121.54245                   1   \n",
       "..                            ...       ...        ...                 ...   \n",
       "409                             0  24.94155  121.50381                   3   \n",
       "410                             9  24.97433  121.54310                   2   \n",
       "411                             7  24.97923  121.53986                   1   \n",
       "412                             5  24.96674  121.54067                   1   \n",
       "413                             9  24.97433  121.54310                   2   \n",
       "\n",
       "     Sale Price  \n",
       "0       21792.5  \n",
       "1       52328.0  \n",
       "2       50138.0  \n",
       "3       47950.0  \n",
       "4       21162.1  \n",
       "..          ...  \n",
       "409     12366.2  \n",
       "410     63900.0  \n",
       "411     20421.8  \n",
       "412     31342.5  \n",
       "413     70098.3  \n",
       "\n",
       "[414 rows x 7 columns]"
      ]
     },
     "execution_count": 24,
     "metadata": {},
     "output_type": "execute_result"
    }
   ],
   "source": [
    "df"
   ]
  },
  {
   "cell_type": "markdown",
   "id": "04b2913a",
   "metadata": {
    "papermill": {
     "duration": 0.020064,
     "end_time": "2022-12-10T16:46:37.990496",
     "exception": false,
     "start_time": "2022-12-10T16:46:37.970432",
     "status": "completed"
    },
    "tags": []
   },
   "source": [
    "# Our final dataframe for modeling"
   ]
  },
  {
   "cell_type": "code",
   "execution_count": 25,
   "id": "ce1faf71",
   "metadata": {
    "execution": {
     "iopub.execute_input": "2022-12-10T16:46:38.033333Z",
     "iopub.status.busy": "2022-12-10T16:46:38.032137Z",
     "iopub.status.idle": "2022-12-10T16:46:38.037100Z",
     "shell.execute_reply": "2022-12-10T16:46:38.036225Z"
    },
    "papermill": {
     "duration": 0.029019,
     "end_time": "2022-12-10T16:46:38.039682",
     "exception": false,
     "start_time": "2022-12-10T16:46:38.010663",
     "status": "completed"
    },
    "tags": []
   },
   "outputs": [],
   "source": [
    "df_final = df"
   ]
  },
  {
   "cell_type": "code",
   "execution_count": 26,
   "id": "3bd77204",
   "metadata": {
    "execution": {
     "iopub.execute_input": "2022-12-10T16:46:38.083468Z",
     "iopub.status.busy": "2022-12-10T16:46:38.082453Z",
     "iopub.status.idle": "2022-12-10T16:46:38.097316Z",
     "shell.execute_reply": "2022-12-10T16:46:38.096183Z"
    },
    "papermill": {
     "duration": 0.039957,
     "end_time": "2022-12-10T16:46:38.099807",
     "exception": false,
     "start_time": "2022-12-10T16:46:38.059850",
     "status": "completed"
    },
    "tags": []
   },
   "outputs": [
    {
     "data": {
      "text/html": [
       "<div>\n",
       "<style scoped>\n",
       "    .dataframe tbody tr th:only-of-type {\n",
       "        vertical-align: middle;\n",
       "    }\n",
       "\n",
       "    .dataframe tbody tr th {\n",
       "        vertical-align: top;\n",
       "    }\n",
       "\n",
       "    .dataframe thead th {\n",
       "        text-align: right;\n",
       "    }\n",
       "</style>\n",
       "<table border=\"1\" class=\"dataframe\">\n",
       "  <thead>\n",
       "    <tr style=\"text-align: right;\">\n",
       "      <th></th>\n",
       "      <th>House Age</th>\n",
       "      <th>Distance from nearest Metro station (km)</th>\n",
       "      <th>Number of convenience stores</th>\n",
       "      <th>latitude</th>\n",
       "      <th>longitude</th>\n",
       "      <th>Number of bedrooms</th>\n",
       "      <th>Sale Price</th>\n",
       "    </tr>\n",
       "  </thead>\n",
       "  <tbody>\n",
       "    <tr>\n",
       "      <th>0</th>\n",
       "      <td>32.0</td>\n",
       "      <td>84.87882</td>\n",
       "      <td>10</td>\n",
       "      <td>24.98298</td>\n",
       "      <td>121.54024</td>\n",
       "      <td>1</td>\n",
       "      <td>21792.5</td>\n",
       "    </tr>\n",
       "    <tr>\n",
       "      <th>1</th>\n",
       "      <td>19.5</td>\n",
       "      <td>306.59470</td>\n",
       "      <td>9</td>\n",
       "      <td>24.98034</td>\n",
       "      <td>121.53951</td>\n",
       "      <td>2</td>\n",
       "      <td>52328.0</td>\n",
       "    </tr>\n",
       "    <tr>\n",
       "      <th>2</th>\n",
       "      <td>13.3</td>\n",
       "      <td>561.98450</td>\n",
       "      <td>5</td>\n",
       "      <td>24.98746</td>\n",
       "      <td>121.54391</td>\n",
       "      <td>3</td>\n",
       "      <td>50138.0</td>\n",
       "    </tr>\n",
       "    <tr>\n",
       "      <th>3</th>\n",
       "      <td>13.3</td>\n",
       "      <td>561.98450</td>\n",
       "      <td>5</td>\n",
       "      <td>24.98746</td>\n",
       "      <td>121.54391</td>\n",
       "      <td>2</td>\n",
       "      <td>47950.0</td>\n",
       "    </tr>\n",
       "    <tr>\n",
       "      <th>4</th>\n",
       "      <td>5.0</td>\n",
       "      <td>390.56840</td>\n",
       "      <td>5</td>\n",
       "      <td>24.97937</td>\n",
       "      <td>121.54245</td>\n",
       "      <td>1</td>\n",
       "      <td>21162.1</td>\n",
       "    </tr>\n",
       "  </tbody>\n",
       "</table>\n",
       "</div>"
      ],
      "text/plain": [
       "   House Age  Distance from nearest Metro station (km)  \\\n",
       "0       32.0                                  84.87882   \n",
       "1       19.5                                 306.59470   \n",
       "2       13.3                                 561.98450   \n",
       "3       13.3                                 561.98450   \n",
       "4        5.0                                 390.56840   \n",
       "\n",
       "   Number of convenience stores  latitude  longitude  Number of bedrooms  \\\n",
       "0                            10  24.98298  121.54024                   1   \n",
       "1                             9  24.98034  121.53951                   2   \n",
       "2                             5  24.98746  121.54391                   3   \n",
       "3                             5  24.98746  121.54391                   2   \n",
       "4                             5  24.97937  121.54245                   1   \n",
       "\n",
       "   Sale Price  \n",
       "0     21792.5  \n",
       "1     52328.0  \n",
       "2     50138.0  \n",
       "3     47950.0  \n",
       "4     21162.1  "
      ]
     },
     "execution_count": 26,
     "metadata": {},
     "output_type": "execute_result"
    }
   ],
   "source": [
    "df_final.head()"
   ]
  },
  {
   "cell_type": "code",
   "execution_count": 27,
   "id": "0dba23bd",
   "metadata": {
    "execution": {
     "iopub.execute_input": "2022-12-10T16:46:38.143015Z",
     "iopub.status.busy": "2022-12-10T16:46:38.142572Z",
     "iopub.status.idle": "2022-12-10T16:46:38.178631Z",
     "shell.execute_reply": "2022-12-10T16:46:38.177467Z"
    },
    "papermill": {
     "duration": 0.060528,
     "end_time": "2022-12-10T16:46:38.181262",
     "exception": false,
     "start_time": "2022-12-10T16:46:38.120734",
     "status": "completed"
    },
    "tags": []
   },
   "outputs": [
    {
     "data": {
      "text/html": [
       "<div>\n",
       "<style scoped>\n",
       "    .dataframe tbody tr th:only-of-type {\n",
       "        vertical-align: middle;\n",
       "    }\n",
       "\n",
       "    .dataframe tbody tr th {\n",
       "        vertical-align: top;\n",
       "    }\n",
       "\n",
       "    .dataframe thead th {\n",
       "        text-align: right;\n",
       "    }\n",
       "</style>\n",
       "<table border=\"1\" class=\"dataframe\">\n",
       "  <thead>\n",
       "    <tr style=\"text-align: right;\">\n",
       "      <th></th>\n",
       "      <th>House Age</th>\n",
       "      <th>Distance from nearest Metro station (km)</th>\n",
       "      <th>Number of convenience stores</th>\n",
       "      <th>latitude</th>\n",
       "      <th>longitude</th>\n",
       "      <th>Number of bedrooms</th>\n",
       "      <th>Sale Price</th>\n",
       "    </tr>\n",
       "  </thead>\n",
       "  <tbody>\n",
       "    <tr>\n",
       "      <th>count</th>\n",
       "      <td>414.000000</td>\n",
       "      <td>414.000000</td>\n",
       "      <td>414.000000</td>\n",
       "      <td>414.000000</td>\n",
       "      <td>414.000000</td>\n",
       "      <td>414.000000</td>\n",
       "      <td>414.000000</td>\n",
       "    </tr>\n",
       "    <tr>\n",
       "      <th>mean</th>\n",
       "      <td>17.712560</td>\n",
       "      <td>1083.885689</td>\n",
       "      <td>4.094203</td>\n",
       "      <td>24.969030</td>\n",
       "      <td>121.533361</td>\n",
       "      <td>1.987923</td>\n",
       "      <td>35597.804106</td>\n",
       "    </tr>\n",
       "    <tr>\n",
       "      <th>std</th>\n",
       "      <td>11.392485</td>\n",
       "      <td>1262.109595</td>\n",
       "      <td>2.945562</td>\n",
       "      <td>0.012410</td>\n",
       "      <td>0.015347</td>\n",
       "      <td>0.818875</td>\n",
       "      <td>19890.892075</td>\n",
       "    </tr>\n",
       "    <tr>\n",
       "      <th>min</th>\n",
       "      <td>0.000000</td>\n",
       "      <td>23.382840</td>\n",
       "      <td>0.000000</td>\n",
       "      <td>24.932070</td>\n",
       "      <td>121.473530</td>\n",
       "      <td>1.000000</td>\n",
       "      <td>5440.400000</td>\n",
       "    </tr>\n",
       "    <tr>\n",
       "      <th>25%</th>\n",
       "      <td>9.025000</td>\n",
       "      <td>289.324800</td>\n",
       "      <td>1.000000</td>\n",
       "      <td>24.963000</td>\n",
       "      <td>121.528085</td>\n",
       "      <td>1.000000</td>\n",
       "      <td>20482.700000</td>\n",
       "    </tr>\n",
       "    <tr>\n",
       "      <th>50%</th>\n",
       "      <td>16.100000</td>\n",
       "      <td>492.231300</td>\n",
       "      <td>4.000000</td>\n",
       "      <td>24.971100</td>\n",
       "      <td>121.538630</td>\n",
       "      <td>2.000000</td>\n",
       "      <td>31224.200000</td>\n",
       "    </tr>\n",
       "    <tr>\n",
       "      <th>75%</th>\n",
       "      <td>28.150000</td>\n",
       "      <td>1454.279000</td>\n",
       "      <td>6.000000</td>\n",
       "      <td>24.977455</td>\n",
       "      <td>121.543305</td>\n",
       "      <td>3.000000</td>\n",
       "      <td>48439.375000</td>\n",
       "    </tr>\n",
       "    <tr>\n",
       "      <th>max</th>\n",
       "      <td>43.800000</td>\n",
       "      <td>6488.021000</td>\n",
       "      <td>10.000000</td>\n",
       "      <td>25.014590</td>\n",
       "      <td>121.566270</td>\n",
       "      <td>3.000000</td>\n",
       "      <td>161327.500000</td>\n",
       "    </tr>\n",
       "  </tbody>\n",
       "</table>\n",
       "</div>"
      ],
      "text/plain": [
       "        House Age  Distance from nearest Metro station (km)  \\\n",
       "count  414.000000                                414.000000   \n",
       "mean    17.712560                               1083.885689   \n",
       "std     11.392485                               1262.109595   \n",
       "min      0.000000                                 23.382840   \n",
       "25%      9.025000                                289.324800   \n",
       "50%     16.100000                                492.231300   \n",
       "75%     28.150000                               1454.279000   \n",
       "max     43.800000                               6488.021000   \n",
       "\n",
       "       Number of convenience stores    latitude   longitude  \\\n",
       "count                    414.000000  414.000000  414.000000   \n",
       "mean                       4.094203   24.969030  121.533361   \n",
       "std                        2.945562    0.012410    0.015347   \n",
       "min                        0.000000   24.932070  121.473530   \n",
       "25%                        1.000000   24.963000  121.528085   \n",
       "50%                        4.000000   24.971100  121.538630   \n",
       "75%                        6.000000   24.977455  121.543305   \n",
       "max                       10.000000   25.014590  121.566270   \n",
       "\n",
       "       Number of bedrooms     Sale Price  \n",
       "count          414.000000     414.000000  \n",
       "mean             1.987923   35597.804106  \n",
       "std              0.818875   19890.892075  \n",
       "min              1.000000    5440.400000  \n",
       "25%              1.000000   20482.700000  \n",
       "50%              2.000000   31224.200000  \n",
       "75%              3.000000   48439.375000  \n",
       "max              3.000000  161327.500000  "
      ]
     },
     "execution_count": 27,
     "metadata": {},
     "output_type": "execute_result"
    }
   ],
   "source": [
    "df_final.describe()"
   ]
  },
  {
   "cell_type": "code",
   "execution_count": 28,
   "id": "f40d6a21",
   "metadata": {
    "execution": {
     "iopub.execute_input": "2022-12-10T16:46:38.225147Z",
     "iopub.status.busy": "2022-12-10T16:46:38.224450Z",
     "iopub.status.idle": "2022-12-10T16:46:48.151395Z",
     "shell.execute_reply": "2022-12-10T16:46:48.150339Z"
    },
    "papermill": {
     "duration": 9.956493,
     "end_time": "2022-12-10T16:46:48.158694",
     "exception": false,
     "start_time": "2022-12-10T16:46:38.202201",
     "status": "completed"
    },
    "tags": []
   },
   "outputs": [
    {
     "data": {
      "text/plain": [
       "<seaborn.axisgrid.PairGrid at 0x7f541f481bd0>"
      ]
     },
     "execution_count": 28,
     "metadata": {},
     "output_type": "execute_result"
    },
    {
     "data": {
      "image/png": "[encoded data removed]",
      "text/plain": [
       "<Figure size 1260x1260 with 56 Axes>"
      ]
     },
     "metadata": {
      "needs_background": "light"
     },
     "output_type": "display_data"
    }
   ],
   "source": [
    "sns.pairplot(df_final)"
   ]
  },
  {
   "cell_type": "code",
   "execution_count": 29,
   "id": "468eb45d",
   "metadata": {
    "execution": {
     "iopub.execute_input": "2022-12-10T16:46:48.215547Z",
     "iopub.status.busy": "2022-12-10T16:46:48.214264Z",
     "iopub.status.idle": "2022-12-10T16:46:48.221717Z",
     "shell.execute_reply": "2022-12-10T16:46:48.220836Z"
    },
    "papermill": {
     "duration": 0.038323,
     "end_time": "2022-12-10T16:46:48.223964",
     "exception": false,
     "start_time": "2022-12-10T16:46:48.185641",
     "status": "completed"
    },
    "tags": []
   },
   "outputs": [
    {
     "data": {
      "text/plain": [
       "(414, 7)"
      ]
     },
     "execution_count": 29,
     "metadata": {},
     "output_type": "execute_result"
    }
   ],
   "source": [
    "df_final.shape"
   ]
  },
  {
   "cell_type": "code",
   "execution_count": 30,
   "id": "5a9277a7",
   "metadata": {
    "execution": {
     "iopub.execute_input": "2022-12-10T16:46:48.280071Z",
     "iopub.status.busy": "2022-12-10T16:46:48.279252Z",
     "iopub.status.idle": "2022-12-10T16:46:48.294214Z",
     "shell.execute_reply": "2022-12-10T16:46:48.293099Z"
    },
    "papermill": {
     "duration": 0.046379,
     "end_time": "2022-12-10T16:46:48.297226",
     "exception": false,
     "start_time": "2022-12-10T16:46:48.250847",
     "status": "completed"
    },
    "tags": []
   },
   "outputs": [
    {
     "data": {
      "text/html": [
       "<div>\n",
       "<style scoped>\n",
       "    .dataframe tbody tr th:only-of-type {\n",
       "        vertical-align: middle;\n",
       "    }\n",
       "\n",
       "    .dataframe tbody tr th {\n",
       "        vertical-align: top;\n",
       "    }\n",
       "\n",
       "    .dataframe thead th {\n",
       "        text-align: right;\n",
       "    }\n",
       "</style>\n",
       "<table border=\"1\" class=\"dataframe\">\n",
       "  <thead>\n",
       "    <tr style=\"text-align: right;\">\n",
       "      <th></th>\n",
       "      <th>House Age</th>\n",
       "      <th>Distance from nearest Metro station (km)</th>\n",
       "      <th>Number of convenience stores</th>\n",
       "      <th>latitude</th>\n",
       "      <th>longitude</th>\n",
       "      <th>Number of bedrooms</th>\n",
       "      <th>Sale Price</th>\n",
       "    </tr>\n",
       "  </thead>\n",
       "  <tbody>\n",
       "    <tr>\n",
       "      <th>0</th>\n",
       "      <td>32.0</td>\n",
       "      <td>84.87882</td>\n",
       "      <td>10</td>\n",
       "      <td>24.98298</td>\n",
       "      <td>121.54024</td>\n",
       "      <td>1</td>\n",
       "      <td>21792.5</td>\n",
       "    </tr>\n",
       "    <tr>\n",
       "      <th>1</th>\n",
       "      <td>19.5</td>\n",
       "      <td>306.59470</td>\n",
       "      <td>9</td>\n",
       "      <td>24.98034</td>\n",
       "      <td>121.53951</td>\n",
       "      <td>2</td>\n",
       "      <td>52328.0</td>\n",
       "    </tr>\n",
       "    <tr>\n",
       "      <th>2</th>\n",
       "      <td>13.3</td>\n",
       "      <td>561.98450</td>\n",
       "      <td>5</td>\n",
       "      <td>24.98746</td>\n",
       "      <td>121.54391</td>\n",
       "      <td>3</td>\n",
       "      <td>50138.0</td>\n",
       "    </tr>\n",
       "    <tr>\n",
       "      <th>3</th>\n",
       "      <td>13.3</td>\n",
       "      <td>561.98450</td>\n",
       "      <td>5</td>\n",
       "      <td>24.98746</td>\n",
       "      <td>121.54391</td>\n",
       "      <td>2</td>\n",
       "      <td>47950.0</td>\n",
       "    </tr>\n",
       "    <tr>\n",
       "      <th>4</th>\n",
       "      <td>5.0</td>\n",
       "      <td>390.56840</td>\n",
       "      <td>5</td>\n",
       "      <td>24.97937</td>\n",
       "      <td>121.54245</td>\n",
       "      <td>1</td>\n",
       "      <td>21162.1</td>\n",
       "    </tr>\n",
       "  </tbody>\n",
       "</table>\n",
       "</div>"
      ],
      "text/plain": [
       "   House Age  Distance from nearest Metro station (km)  \\\n",
       "0       32.0                                  84.87882   \n",
       "1       19.5                                 306.59470   \n",
       "2       13.3                                 561.98450   \n",
       "3       13.3                                 561.98450   \n",
       "4        5.0                                 390.56840   \n",
       "\n",
       "   Number of convenience stores  latitude  longitude  Number of bedrooms  \\\n",
       "0                            10  24.98298  121.54024                   1   \n",
       "1                             9  24.98034  121.53951                   2   \n",
       "2                             5  24.98746  121.54391                   3   \n",
       "3                             5  24.98746  121.54391                   2   \n",
       "4                             5  24.97937  121.54245                   1   \n",
       "\n",
       "   Sale Price  \n",
       "0     21792.5  \n",
       "1     52328.0  \n",
       "2     50138.0  \n",
       "3     47950.0  \n",
       "4     21162.1  "
      ]
     },
     "execution_count": 30,
     "metadata": {},
     "output_type": "execute_result"
    }
   ],
   "source": [
    "df_final.head()"
   ]
  },
  {
   "cell_type": "markdown",
   "id": "8312a45f",
   "metadata": {
    "papermill": {
     "duration": 0.026807,
     "end_time": "2022-12-10T16:46:48.351444",
     "exception": false,
     "start_time": "2022-12-10T16:46:48.324637",
     "status": "completed"
    },
    "tags": []
   },
   "source": [
    "# 1. Build machine learning models\n",
    "# 2. Get cross validation scores of the models\n",
    "# 3. Stack up the models"
   ]
  },
  {
   "cell_type": "markdown",
   "id": "cf339823",
   "metadata": {
    "papermill": {
     "duration": 0.026458,
     "end_time": "2022-12-10T16:46:48.404598",
     "exception": false,
     "start_time": "2022-12-10T16:46:48.378140",
     "status": "completed"
    },
    "tags": []
   },
   "source": []
  },
  {
   "cell_type": "code",
   "execution_count": 31,
   "id": "bf1bb912",
   "metadata": {
    "execution": {
     "iopub.execute_input": "2022-12-10T16:46:48.460575Z",
     "iopub.status.busy": "2022-12-10T16:46:48.460155Z",
     "iopub.status.idle": "2022-12-10T16:46:49.751779Z",
     "shell.execute_reply": "2022-12-10T16:46:49.750650Z"
    },
    "papermill": {
     "duration": 1.323218,
     "end_time": "2022-12-10T16:46:49.754730",
     "exception": false,
     "start_time": "2022-12-10T16:46:48.431512",
     "status": "completed"
    },
    "tags": []
   },
   "outputs": [
    {
     "data": {
      "text/html": [
       "<style type='text/css'>\n",
       ".datatable table.frame { margin-bottom: 0; }\n",
       ".datatable table.frame thead { border-bottom: none; }\n",
       ".datatable table.frame tr.coltypes td {  color: #FFFFFF;  line-height: 6px;  padding: 0 0.5em;}\n",
       ".datatable .bool    { background: #DDDD99; }\n",
       ".datatable .object  { background: #565656; }\n",
       ".datatable .int     { background: #5D9E5D; }\n",
       ".datatable .float   { background: #4040CC; }\n",
       ".datatable .str     { background: #CC4040; }\n",
       ".datatable .time    { background: #40CC40; }\n",
       ".datatable .row_index {  background: var(--jp-border-color3);  border-right: 1px solid var(--jp-border-color0);  color: var(--jp-ui-font-color3);  font-size: 9px;}\n",
       ".datatable .frame tbody td { text-align: left; }\n",
       ".datatable .frame tr.coltypes .row_index {  background: var(--jp-border-color0);}\n",
       ".datatable th:nth-child(2) { padding-left: 12px; }\n",
       ".datatable .hellipsis {  color: var(--jp-cell-editor-border-color);}\n",
       ".datatable .vellipsis {  background: var(--jp-layout-color0);  color: var(--jp-cell-editor-border-color);}\n",
       ".datatable .na {  color: var(--jp-cell-editor-border-color);  font-size: 80%;}\n",
       ".datatable .sp {  opacity: 0.25;}\n",
       ".datatable .footer { font-size: 9px; }\n",
       ".datatable .frame_dimensions {  background: var(--jp-border-color3);  border-top: 1px solid var(--jp-border-color0);  color: var(--jp-ui-font-color3);  display: inline-block;  opacity: 0.6;  padding: 1px 10px 1px 5px;}\n",
       ".datatable .frame thead tr.colnames {  background-image: url('data:image/png;base64,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');  background-repeat: repeat-x;  background-size: 14px;  height: 28px;}\n",
       "</style>\n"
      ],
      "text/plain": [
       "<IPython.core.display.HTML object>"
      ]
     },
     "metadata": {},
     "output_type": "display_data"
    }
   ],
   "source": [
    "from sklearn.preprocessing import LabelEncoder\n",
    "from sklearn.preprocessing import MinMaxScaler, RobustScaler, StandardScaler\n",
    "from sklearn.model_selection import train_test_split, GridSearchCV, cross_val_score, KFold\n",
    "from sklearn.metrics import mean_squared_error, mean_squared_log_error, r2_score\n",
    "from sklearn import model_selection\n",
    "from sklearn.pipeline import make_pipeline\n",
    "from sklearn.linear_model import LinearRegression\n",
    "\n",
    "from xgboost import XGBRegressor\n",
    "from lightgbm import LGBMRegressor\n",
    "from sklearn.svm import SVR\n",
    "from sklearn.ensemble import RandomForestRegressor, GradientBoostingRegressor\n",
    "from sklearn.linear_model import Ridge, RidgeCV, Lasso, LassoCV\n"
   ]
  },
  {
   "cell_type": "code",
   "execution_count": 32,
   "id": "364623e8",
   "metadata": {
    "execution": {
     "iopub.execute_input": "2022-12-10T16:46:49.812460Z",
     "iopub.status.busy": "2022-12-10T16:46:49.811795Z",
     "iopub.status.idle": "2022-12-10T16:46:49.817685Z",
     "shell.execute_reply": "2022-12-10T16:46:49.816594Z"
    },
    "papermill": {
     "duration": 0.037529,
     "end_time": "2022-12-10T16:46:49.820145",
     "exception": false,
     "start_time": "2022-12-10T16:46:49.782616",
     "status": "completed"
    },
    "tags": []
   },
   "outputs": [],
   "source": [
    "x = df_final.drop(['Sale Price'], axis = 1)"
   ]
  },
  {
   "cell_type": "code",
   "execution_count": 33,
   "id": "64d042ae",
   "metadata": {
    "execution": {
     "iopub.execute_input": "2022-12-10T16:46:49.876636Z",
     "iopub.status.busy": "2022-12-10T16:46:49.876203Z",
     "iopub.status.idle": "2022-12-10T16:46:49.881545Z",
     "shell.execute_reply": "2022-12-10T16:46:49.880390Z"
    },
    "papermill": {
     "duration": 0.036202,
     "end_time": "2022-12-10T16:46:49.883840",
     "exception": false,
     "start_time": "2022-12-10T16:46:49.847638",
     "status": "completed"
    },
    "tags": []
   },
   "outputs": [],
   "source": [
    "y = df_final['Sale Price']"
   ]
  },
  {
   "cell_type": "code",
   "execution_count": null,
   "id": "4c16aa5e",
   "metadata": {
    "papermill": {
     "duration": 0.027288,
     "end_time": "2022-12-10T16:46:49.938841",
     "exception": false,
     "start_time": "2022-12-10T16:46:49.911553",
     "status": "completed"
    },
    "tags": []
   },
   "outputs": [],
   "source": []
  },
  {
   "cell_type": "code",
   "execution_count": 34,
   "id": "e5a41d8d",
   "metadata": {
    "execution": {
     "iopub.execute_input": "2022-12-10T16:46:49.996483Z",
     "iopub.status.busy": "2022-12-10T16:46:49.995595Z",
     "iopub.status.idle": "2022-12-10T16:46:50.007424Z",
     "shell.execute_reply": "2022-12-10T16:46:50.006096Z"
    },
    "papermill": {
     "duration": 0.043626,
     "end_time": "2022-12-10T16:46:50.010007",
     "exception": false,
     "start_time": "2022-12-10T16:46:49.966381",
     "status": "completed"
    },
    "tags": []
   },
   "outputs": [
    {
     "name": "stdout",
     "output_type": "stream",
     "text": [
      "\n",
      "After Standardisation : \n",
      " [[ 1.25562833 -0.79249504  2.00740743  1.12542986  0.44876222 -1.20789893]\n",
      " [ 0.15708622 -0.61661163  1.66750286  0.91244418  0.40113894  0.01476649]\n",
      " [-0.38779067 -0.41401527  0.30788458  1.48686011  0.68818339  1.23743191]\n",
      " ...\n",
      " [ 0.09556786 -0.54967846  0.98769372  0.82289338  0.42397202 -1.20789893]\n",
      " [-0.84478419 -0.77668389  0.30788458 -0.18475479  0.4768143  -1.20789893]\n",
      " [-0.98539758 -0.78807071  1.66750286  0.42757905  0.63534112  0.01476649]]\n"
     ]
    }
   ],
   "source": [
    "# Feature Scaling\n",
    "from sklearn import preprocessing\n",
    "Standardisation = preprocessing.StandardScaler()\n",
    "  \n",
    "# Scaled feature\n",
    "x_after_Standardisation = Standardisation.fit_transform(x)\n",
    "  \n",
    "print (\"\\nAfter Standardisation : \\n\", x_after_Standardisation)"
   ]
  },
  {
   "cell_type": "code",
   "execution_count": 35,
   "id": "f9d6018f",
   "metadata": {
    "execution": {
     "iopub.execute_input": "2022-12-10T16:46:50.067809Z",
     "iopub.status.busy": "2022-12-10T16:46:50.067352Z",
     "iopub.status.idle": "2022-12-10T16:46:50.074684Z",
     "shell.execute_reply": "2022-12-10T16:46:50.073540Z"
    },
    "papermill": {
     "duration": 0.039053,
     "end_time": "2022-12-10T16:46:50.077133",
     "exception": false,
     "start_time": "2022-12-10T16:46:50.038080",
     "status": "completed"
    },
    "tags": []
   },
   "outputs": [],
   "source": [
    "#spliting the data into train and test\n",
    "\n",
    "from sklearn.model_selection import train_test_split\n",
    "x_train, x_test, y_train, y_test = train_test_split(x_after_Standardisation, y, test_size = 0.2, random_state = 50)"
   ]
  },
  {
   "cell_type": "markdown",
   "id": "391be2de",
   "metadata": {
    "papermill": {
     "duration": 0.027129,
     "end_time": "2022-12-10T16:46:50.131833",
     "exception": false,
     "start_time": "2022-12-10T16:46:50.104704",
     "status": "completed"
    },
    "tags": []
   },
   "source": [
    "# Linear Regression model"
   ]
  },
  {
   "cell_type": "code",
   "execution_count": 36,
   "id": "1bb70dcd",
   "metadata": {
    "execution": {
     "iopub.execute_input": "2022-12-10T16:46:50.189492Z",
     "iopub.status.busy": "2022-12-10T16:46:50.189005Z",
     "iopub.status.idle": "2022-12-10T16:46:50.214263Z",
     "shell.execute_reply": "2022-12-10T16:46:50.213394Z"
    },
    "papermill": {
     "duration": 0.057257,
     "end_time": "2022-12-10T16:46:50.216400",
     "exception": false,
     "start_time": "2022-12-10T16:46:50.159143",
     "status": "completed"
    },
    "tags": []
   },
   "outputs": [
    {
     "data": {
      "text/plain": [
       "LinearRegression()"
      ]
     },
     "execution_count": 36,
     "metadata": {},
     "output_type": "execute_result"
    }
   ],
   "source": [
    "\n",
    "linear = LinearRegression()\n",
    "linear.fit(x_train, y_train)"
   ]
  },
  {
   "cell_type": "code",
   "execution_count": 37,
   "id": "3eeeb560",
   "metadata": {
    "execution": {
     "iopub.execute_input": "2022-12-10T16:46:50.273940Z",
     "iopub.status.busy": "2022-12-10T16:46:50.272697Z",
     "iopub.status.idle": "2022-12-10T16:46:50.281596Z",
     "shell.execute_reply": "2022-12-10T16:46:50.280526Z"
    },
    "papermill": {
     "duration": 0.040329,
     "end_time": "2022-12-10T16:46:50.283951",
     "exception": false,
     "start_time": "2022-12-10T16:46:50.243622",
     "status": "completed"
    },
    "tags": []
   },
   "outputs": [
    {
     "data": {
      "text/plain": [
       "0.604485862290043"
      ]
     },
     "execution_count": 37,
     "metadata": {},
     "output_type": "execute_result"
    }
   ],
   "source": [
    "#Prediction and r2 score for Linear model\n",
    "\n",
    "linear_pred = linear.predict(x_test)\n",
    "\n",
    "r2_score(y_test, linear_pred) "
   ]
  },
  {
   "cell_type": "markdown",
   "id": "a880b140",
   "metadata": {
    "papermill": {
     "duration": 0.028083,
     "end_time": "2022-12-10T16:46:50.340516",
     "exception": false,
     "start_time": "2022-12-10T16:46:50.312433",
     "status": "completed"
    },
    "tags": []
   },
   "source": [
    "# Ridge"
   ]
  },
  {
   "cell_type": "code",
   "execution_count": 38,
   "id": "f004b1a6",
   "metadata": {
    "execution": {
     "iopub.execute_input": "2022-12-10T16:46:50.398208Z",
     "iopub.status.busy": "2022-12-10T16:46:50.397078Z",
     "iopub.status.idle": "2022-12-10T16:46:50.411538Z",
     "shell.execute_reply": "2022-12-10T16:46:50.410723Z"
    },
    "papermill": {
     "duration": 0.045769,
     "end_time": "2022-12-10T16:46:50.413726",
     "exception": false,
     "start_time": "2022-12-10T16:46:50.367957",
     "status": "completed"
    },
    "tags": []
   },
   "outputs": [
    {
     "data": {
      "text/plain": [
       "0.604398142327559"
      ]
     },
     "execution_count": 38,
     "metadata": {},
     "output_type": "execute_result"
    }
   ],
   "source": [
    "\n",
    "ridge = Ridge(alpha = 0.5)\n",
    "ridge.fit(x_train, y_train)\n",
    "ridge_pred = ridge.predict(x_test)\n",
    "\n",
    "r2_score(y_test, ridge_pred) "
   ]
  },
  {
   "cell_type": "markdown",
   "id": "19d25a3d",
   "metadata": {
    "papermill": {
     "duration": 0.028944,
     "end_time": "2022-12-10T16:46:50.470098",
     "exception": false,
     "start_time": "2022-12-10T16:46:50.441154",
     "status": "completed"
    },
    "tags": []
   },
   "source": [
    "# Lasso"
   ]
  },
  {
   "cell_type": "code",
   "execution_count": 39,
   "id": "0d995fae",
   "metadata": {
    "execution": {
     "iopub.execute_input": "2022-12-10T16:46:50.530125Z",
     "iopub.status.busy": "2022-12-10T16:46:50.528915Z",
     "iopub.status.idle": "2022-12-10T16:46:50.540084Z",
     "shell.execute_reply": "2022-12-10T16:46:50.538910Z"
    },
    "papermill": {
     "duration": 0.042864,
     "end_time": "2022-12-10T16:46:50.542539",
     "exception": false,
     "start_time": "2022-12-10T16:46:50.499675",
     "status": "completed"
    },
    "tags": []
   },
   "outputs": [
    {
     "data": {
      "text/plain": [
       "0.6044857288997465"
      ]
     },
     "execution_count": 39,
     "metadata": {},
     "output_type": "execute_result"
    }
   ],
   "source": [
    "\n",
    "lasso = Lasso(alpha = 0.01)\n",
    "lasso.fit(x_train, y_train)\n",
    "lasso_pred = lasso.predict(x_test)\n",
    "r2_score(y_test, lasso_pred)\n"
   ]
  },
  {
   "cell_type": "markdown",
   "id": "7d01404a",
   "metadata": {
    "papermill": {
     "duration": 0.027617,
     "end_time": "2022-12-10T16:46:50.597965",
     "exception": false,
     "start_time": "2022-12-10T16:46:50.570348",
     "status": "completed"
    },
    "tags": []
   },
   "source": [
    "# Random Forest Algorithm"
   ]
  },
  {
   "cell_type": "code",
   "execution_count": 40,
   "id": "2ece64e9",
   "metadata": {
    "execution": {
     "iopub.execute_input": "2022-12-10T16:46:50.656083Z",
     "iopub.status.busy": "2022-12-10T16:46:50.655672Z",
     "iopub.status.idle": "2022-12-10T16:46:50.764402Z",
     "shell.execute_reply": "2022-12-10T16:46:50.763183Z"
    },
    "papermill": {
     "duration": 0.14095,
     "end_time": "2022-12-10T16:46:50.766783",
     "exception": false,
     "start_time": "2022-12-10T16:46:50.625833",
     "status": "completed"
    },
    "tags": []
   },
   "outputs": [
    {
     "data": {
      "text/plain": [
       "RandomForestRegressor(n_estimators=50)"
      ]
     },
     "execution_count": 40,
     "metadata": {},
     "output_type": "execute_result"
    }
   ],
   "source": [
    "random = RandomForestRegressor(n_estimators = 50)\n",
    "random.fit(x_train, y_train)"
   ]
  },
  {
   "cell_type": "code",
   "execution_count": 41,
   "id": "b709e548",
   "metadata": {
    "execution": {
     "iopub.execute_input": "2022-12-10T16:46:50.825341Z",
     "iopub.status.busy": "2022-12-10T16:46:50.824538Z",
     "iopub.status.idle": "2022-12-10T16:46:50.838407Z",
     "shell.execute_reply": "2022-12-10T16:46:50.837386Z"
    },
    "papermill": {
     "duration": 0.045969,
     "end_time": "2022-12-10T16:46:50.840692",
     "exception": false,
     "start_time": "2022-12-10T16:46:50.794723",
     "status": "completed"
    },
    "tags": []
   },
   "outputs": [
    {
     "data": {
      "text/plain": [
       "0.8155092426033879"
      ]
     },
     "execution_count": 41,
     "metadata": {},
     "output_type": "execute_result"
    }
   ],
   "source": [
    "random_pred = random.predict(x_test)\n",
    "r2_score(y_test, random_pred)"
   ]
  },
  {
   "cell_type": "markdown",
   "id": "f08fe83c",
   "metadata": {
    "papermill": {
     "duration": 0.027607,
     "end_time": "2022-12-10T16:46:50.895989",
     "exception": false,
     "start_time": "2022-12-10T16:46:50.868382",
     "status": "completed"
    },
    "tags": []
   },
   "source": [
    "# Clearly RandomForestRegressor predicts the best result with an accuracy of 81%."
   ]
  },
  {
   "cell_type": "markdown",
   "id": "41bb9df3",
   "metadata": {
    "papermill": {
     "duration": 0.027372,
     "end_time": "2022-12-10T16:46:50.951658",
     "exception": false,
     "start_time": "2022-12-10T16:46:50.924286",
     "status": "completed"
    },
    "tags": []
   },
   "source": []
  },
  {
   "cell_type": "code",
   "execution_count": 42,
   "id": "9d7ddfe4",
   "metadata": {
    "execution": {
     "iopub.execute_input": "2022-12-10T16:46:51.009920Z",
     "iopub.status.busy": "2022-12-10T16:46:51.009521Z",
     "iopub.status.idle": "2022-12-10T16:46:51.042958Z",
     "shell.execute_reply": "2022-12-10T16:46:51.041721Z"
    },
    "papermill": {
     "duration": 0.065888,
     "end_time": "2022-12-10T16:46:51.045348",
     "exception": false,
     "start_time": "2022-12-10T16:46:50.979460",
     "status": "completed"
    },
    "tags": []
   },
   "outputs": [
    {
     "data": {
      "text/plain": [
       "array([-1.11244825e+08, -1.29538631e+08, -1.69961308e+08, -1.12885495e+08,\n",
       "       -1.53379545e+08])"
      ]
     },
     "execution_count": 42,
     "metadata": {},
     "output_type": "execute_result"
    }
   ],
   "source": [
    "#K - fold cross validation\n",
    "from sklearn.model_selection import ShuffleSplit\n",
    "from sklearn.model_selection import cross_val_score\n",
    "cv = ShuffleSplit(n_splits = 5 , test_size = 0.2 ,  random_state = 42)\n",
    "cross_val_score(LinearRegression() , x , y , scoring=\"neg_mean_squared_error\",cv = cv)\n"
   ]
  },
  {
   "cell_type": "markdown",
   "id": "1c15ce8f",
   "metadata": {
    "papermill": {
     "duration": 0.027529,
     "end_time": "2022-12-10T16:46:51.100974",
     "exception": false,
     "start_time": "2022-12-10T16:46:51.073445",
     "status": "completed"
    },
    "tags": []
   },
   "source": [
    "# TRYING HYPERPARAMETER TUNING WITH GRIDSEARCHCV TO IMPROVE MODEL ACCURACY"
   ]
  },
  {
   "cell_type": "code",
   "execution_count": 43,
   "id": "eca49ab6",
   "metadata": {
    "execution": {
     "iopub.execute_input": "2022-12-10T16:46:51.159362Z",
     "iopub.status.busy": "2022-12-10T16:46:51.158737Z",
     "iopub.status.idle": "2022-12-10T16:46:51.163843Z",
     "shell.execute_reply": "2022-12-10T16:46:51.162938Z"
    },
    "papermill": {
     "duration": 0.036848,
     "end_time": "2022-12-10T16:46:51.166020",
     "exception": false,
     "start_time": "2022-12-10T16:46:51.129172",
     "status": "completed"
    },
    "tags": []
   },
   "outputs": [],
   "source": [
    "# Hyperparameter tuning\n",
    "from sklearn.model_selection import GridSearchCV \n",
    "\n",
    "param_grid = [{'n_estimators': [ 5, 10, 20, 50], 'max_features':[  6]},\n",
    "             {'bootstrap': [False], 'n_estimators':[5, 10, 20, 50], 'max_features':[  6]},]"
   ]
  },
  {
   "cell_type": "code",
   "execution_count": 44,
   "id": "85fe7e9e",
   "metadata": {
    "execution": {
     "iopub.execute_input": "2022-12-10T16:46:51.226565Z",
     "iopub.status.busy": "2022-12-10T16:46:51.225330Z",
     "iopub.status.idle": "2022-12-10T16:46:51.230520Z",
     "shell.execute_reply": "2022-12-10T16:46:51.229652Z"
    },
    "papermill": {
     "duration": 0.038475,
     "end_time": "2022-12-10T16:46:51.232646",
     "exception": false,
     "start_time": "2022-12-10T16:46:51.194171",
     "status": "completed"
    },
    "tags": []
   },
   "outputs": [],
   "source": [
    "grid_search = GridSearchCV(random, param_grid, cv = 5, scoring = 'neg_mean_squared_error', return_train_score = True)"
   ]
  },
  {
   "cell_type": "code",
   "execution_count": 45,
   "id": "28a17ea6",
   "metadata": {
    "execution": {
     "iopub.execute_input": "2022-12-10T16:46:51.291670Z",
     "iopub.status.busy": "2022-12-10T16:46:51.290907Z",
     "iopub.status.idle": "2022-12-10T16:46:53.185460Z",
     "shell.execute_reply": "2022-12-10T16:46:53.184513Z"
    },
    "papermill": {
     "duration": 1.927058,
     "end_time": "2022-12-10T16:46:53.187997",
     "exception": false,
     "start_time": "2022-12-10T16:46:51.260939",
     "status": "completed"
    },
    "tags": []
   },
   "outputs": [
    {
     "data": {
      "text/plain": [
       "GridSearchCV(cv=5, estimator=RandomForestRegressor(n_estimators=50),\n",
       "             param_grid=[{'max_features': [6], 'n_estimators': [5, 10, 20, 50]},\n",
       "                         {'bootstrap': [False], 'max_features': [6],\n",
       "                          'n_estimators': [5, 10, 20, 50]}],\n",
       "             return_train_score=True, scoring='neg_mean_squared_error')"
      ]
     },
     "execution_count": 45,
     "metadata": {},
     "output_type": "execute_result"
    }
   ],
   "source": [
    "grid_search.fit(x_train, y_train )"
   ]
  },
  {
   "cell_type": "code",
   "execution_count": 46,
   "id": "1cfee9f8",
   "metadata": {
    "execution": {
     "iopub.execute_input": "2022-12-10T16:46:53.248475Z",
     "iopub.status.busy": "2022-12-10T16:46:53.247441Z",
     "iopub.status.idle": "2022-12-10T16:46:53.254819Z",
     "shell.execute_reply": "2022-12-10T16:46:53.253946Z"
    },
    "papermill": {
     "duration": 0.039656,
     "end_time": "2022-12-10T16:46:53.256974",
     "exception": false,
     "start_time": "2022-12-10T16:46:53.217318",
     "status": "completed"
    },
    "tags": []
   },
   "outputs": [
    {
     "data": {
      "text/plain": [
       "{'max_features': 6, 'n_estimators': 50}"
      ]
     },
     "execution_count": 46,
     "metadata": {},
     "output_type": "execute_result"
    }
   ],
   "source": [
    "grid_search.best_params_"
   ]
  },
  {
   "cell_type": "code",
   "execution_count": 47,
   "id": "f707ec62",
   "metadata": {
    "execution": {
     "iopub.execute_input": "2022-12-10T16:46:53.316978Z",
     "iopub.status.busy": "2022-12-10T16:46:53.316255Z",
     "iopub.status.idle": "2022-12-10T16:46:53.324669Z",
     "shell.execute_reply": "2022-12-10T16:46:53.323497Z"
    },
    "papermill": {
     "duration": 0.041869,
     "end_time": "2022-12-10T16:46:53.327252",
     "exception": false,
     "start_time": "2022-12-10T16:46:53.285383",
     "status": "completed"
    },
    "tags": []
   },
   "outputs": [
    {
     "data": {
      "text/plain": [
       "RandomForestRegressor(criterion='mse', max_features=6, n_estimators=50)"
      ]
     },
     "execution_count": 47,
     "metadata": {},
     "output_type": "execute_result"
    }
   ],
   "source": [
    "RandomForestRegressor(bootstrap = True, criterion = 'mse', max_depth = None, max_features = 6, \n",
    "                      max_leaf_nodes = None, min_impurity_decrease = 0.0, \n",
    "                     min_samples_leaf = 1, min_samples_split = 2, min_weight_fraction_leaf = 0.0,\n",
    "                     n_estimators = 50, n_jobs = None, oob_score = False, random_state = None, \n",
    "                     verbose = 0, warm_start = False)"
   ]
  },
  {
   "cell_type": "code",
   "execution_count": 48,
   "id": "7e073a05",
   "metadata": {
    "execution": {
     "iopub.execute_input": "2022-12-10T16:46:53.386662Z",
     "iopub.status.busy": "2022-12-10T16:46:53.386192Z",
     "iopub.status.idle": "2022-12-10T16:46:53.391522Z",
     "shell.execute_reply": "2022-12-10T16:46:53.390255Z"
    },
    "papermill": {
     "duration": 0.037833,
     "end_time": "2022-12-10T16:46:53.394084",
     "exception": false,
     "start_time": "2022-12-10T16:46:53.356251",
     "status": "completed"
    },
    "tags": []
   },
   "outputs": [],
   "source": [
    "cvres = grid_search.cv_results_\n"
   ]
  },
  {
   "cell_type": "code",
   "execution_count": 49,
   "id": "dbe93679",
   "metadata": {
    "execution": {
     "iopub.execute_input": "2022-12-10T16:46:53.453760Z",
     "iopub.status.busy": "2022-12-10T16:46:53.452910Z",
     "iopub.status.idle": "2022-12-10T16:46:53.460667Z",
     "shell.execute_reply": "2022-12-10T16:46:53.459149Z"
    },
    "papermill": {
     "duration": 0.041385,
     "end_time": "2022-12-10T16:46:53.464016",
     "exception": false,
     "start_time": "2022-12-10T16:46:53.422631",
     "status": "completed"
    },
    "tags": []
   },
   "outputs": [
    {
     "name": "stdout",
     "output_type": "stream",
     "text": [
      "12857.752337942318 {'max_features': 6, 'n_estimators': 5}\n",
      "12634.15414428612 {'max_features': 6, 'n_estimators': 10}\n",
      "12037.949163677074 {'max_features': 6, 'n_estimators': 20}\n",
      "11775.458964120224 {'max_features': 6, 'n_estimators': 50}\n",
      "14057.029118665283 {'bootstrap': False, 'max_features': 6, 'n_estimators': 5}\n",
      "13893.18724264465 {'bootstrap': False, 'max_features': 6, 'n_estimators': 10}\n",
      "13931.614842905754 {'bootstrap': False, 'max_features': 6, 'n_estimators': 20}\n",
      "14025.086831821585 {'bootstrap': False, 'max_features': 6, 'n_estimators': 50}\n"
     ]
    }
   ],
   "source": [
    "for mean_score, params in zip(cvres['mean_test_score'], cvres['params']):\n",
    "    print(np.sqrt(-mean_score), params)"
   ]
  },
  {
   "cell_type": "code",
   "execution_count": 50,
   "id": "5a52b923",
   "metadata": {
    "execution": {
     "iopub.execute_input": "2022-12-10T16:46:53.524351Z",
     "iopub.status.busy": "2022-12-10T16:46:53.523930Z",
     "iopub.status.idle": "2022-12-10T16:46:53.539792Z",
     "shell.execute_reply": "2022-12-10T16:46:53.538496Z"
    },
    "papermill": {
     "duration": 0.04883,
     "end_time": "2022-12-10T16:46:53.542245",
     "exception": false,
     "start_time": "2022-12-10T16:46:53.493415",
     "status": "completed"
    },
    "tags": []
   },
   "outputs": [
    {
     "data": {
      "text/plain": [
       "9025.700088164724"
      ]
     },
     "execution_count": 50,
     "metadata": {},
     "output_type": "execute_result"
    }
   ],
   "source": [
    "final_model = grid_search.best_estimator_\n",
    "final_predictions = final_model.predict(x_test)\n",
    "final_mse = mean_squared_error(y_test, final_predictions)\n",
    "final_rmse = np.sqrt(final_mse)\n",
    "final_rmse\n"
   ]
  },
  {
   "cell_type": "code",
   "execution_count": 51,
   "id": "66fb875f",
   "metadata": {
    "execution": {
     "iopub.execute_input": "2022-12-10T16:46:53.602110Z",
     "iopub.status.busy": "2022-12-10T16:46:53.601708Z",
     "iopub.status.idle": "2022-12-10T16:46:53.608993Z",
     "shell.execute_reply": "2022-12-10T16:46:53.607853Z"
    },
    "papermill": {
     "duration": 0.040343,
     "end_time": "2022-12-10T16:46:53.611391",
     "exception": false,
     "start_time": "2022-12-10T16:46:53.571048",
     "status": "completed"
    },
    "tags": []
   },
   "outputs": [
    {
     "data": {
      "text/plain": [
       "0.8073315553509779"
      ]
     },
     "execution_count": 51,
     "metadata": {},
     "output_type": "execute_result"
    }
   ],
   "source": [
    "r2_score(y_test, final_predictions)"
   ]
  },
  {
   "cell_type": "markdown",
   "id": "691b92d5",
   "metadata": {
    "papermill": {
     "duration": 0.028824,
     "end_time": "2022-12-10T16:46:53.669228",
     "exception": false,
     "start_time": "2022-12-10T16:46:53.640404",
     "status": "completed"
    },
    "tags": []
   },
   "source": [
    "# AFTER HYPERPARAMETER TUNING OUR MODEL IS PRODUCING ALMOST THE SAME RESULT."
   ]
  }
 ],
 "metadata": {
  "kernelspec": {
   "display_name": "Python 3",
   "language": "python",
   "name": "python3"
  },
  "language_info": {
   "codemirror_mode": {
    "name": "ipython",
    "version": 3
   },
   "file_extension": ".py",
   "mimetype": "text/x-python",
   "name": "python",
   "nbconvert_exporter": "python",
   "pygments_lexer": "ipython3",
   "version": "3.7.12"
  },
  "papermill": {
   "default_parameters": {},
   "duration": 33.465861,
   "end_time": "2022-12-10T16:46:54.823059",
   "environment_variables": {},
   "exception": null,
   "input_path": "__notebook__.ipynb",
   "output_path": "__notebook__.ipynb",
   "parameters": {},
   "start_time": "2022-12-10T16:46:21.357198",
   "version": "2.3.4"
  }
 },
 "nbformat": 4,
 "nbformat_minor": 5
}
